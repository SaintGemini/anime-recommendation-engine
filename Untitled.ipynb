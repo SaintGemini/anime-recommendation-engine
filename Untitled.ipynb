{
 "cells": [
  {
   "cell_type": "markdown",
   "id": "319f4c3d",
   "metadata": {},
   "source": [
    "# Data Exploration and Analysis\n",
    "The following notebook will take a look at the data sets that will be used in the recommendation engine and prep the data for use in the engine itself."
   ]
  },
  {
   "cell_type": "markdown",
   "id": "b0f9af47",
   "metadata": {},
   "source": [
    "## Import Libraries"
   ]
  },
  {
   "cell_type": "code",
   "execution_count": 1,
   "id": "52d75f52",
   "metadata": {},
   "outputs": [],
   "source": [
    "import numpy as np\n",
    "import pandas as pd\n",
    "import matplotlib.pyplot as plt\n",
    "%matplotlib inline"
   ]
  },
  {
   "cell_type": "markdown",
   "id": "d487cba8",
   "metadata": {},
   "source": [
    "## Read in Data"
   ]
  },
  {
   "cell_type": "code",
   "execution_count": 4,
   "id": "f243b672",
   "metadata": {},
   "outputs": [
    {
     "name": "stdout",
     "output_type": "stream",
     "text": [
      "Animes DF: (19311, 12)\n",
      "Users DF: (81727, 5)\n",
      "Reviews DF: (192112, 7)\n"
     ]
    }
   ],
   "source": [
    "animes_df = pd.read_csv('data/animes.csv')\n",
    "users_df = pd.read_csv('data/profiles.csv')\n",
    "reviews_df = pd.read_csv('data/reviews.csv')\n",
    "\n",
    "print(\"Animes DF: {}\\nUsers DF: {}\\nReviews DF: {}\".format(animes_df.shape, users_df.shape, reviews_df.shape))"
   ]
  },
  {
   "cell_type": "markdown",
   "id": "952cf0b1",
   "metadata": {},
   "source": [
    "### Animes DataFrame"
   ]
  },
  {
   "cell_type": "code",
   "execution_count": 5,
   "id": "5f38b51b",
   "metadata": {},
   "outputs": [
    {
     "data": {
      "text/html": [
       "<div>\n",
       "<style scoped>\n",
       "    .dataframe tbody tr th:only-of-type {\n",
       "        vertical-align: middle;\n",
       "    }\n",
       "\n",
       "    .dataframe tbody tr th {\n",
       "        vertical-align: top;\n",
       "    }\n",
       "\n",
       "    .dataframe thead th {\n",
       "        text-align: right;\n",
       "    }\n",
       "</style>\n",
       "<table border=\"1\" class=\"dataframe\">\n",
       "  <thead>\n",
       "    <tr style=\"text-align: right;\">\n",
       "      <th></th>\n",
       "      <th>uid</th>\n",
       "      <th>title</th>\n",
       "      <th>synopsis</th>\n",
       "      <th>genre</th>\n",
       "      <th>aired</th>\n",
       "      <th>episodes</th>\n",
       "      <th>members</th>\n",
       "      <th>popularity</th>\n",
       "      <th>ranked</th>\n",
       "      <th>score</th>\n",
       "      <th>img_url</th>\n",
       "      <th>link</th>\n",
       "    </tr>\n",
       "  </thead>\n",
       "  <tbody>\n",
       "    <tr>\n",
       "      <th>0</th>\n",
       "      <td>28891</td>\n",
       "      <td>Haikyuu!! Second Season</td>\n",
       "      <td>Following their participation at the Inter-Hig...</td>\n",
       "      <td>['Comedy', 'Sports', 'Drama', 'School', 'Shoun...</td>\n",
       "      <td>Oct 4, 2015 to Mar 27, 2016</td>\n",
       "      <td>25.0</td>\n",
       "      <td>489888</td>\n",
       "      <td>141</td>\n",
       "      <td>25.0</td>\n",
       "      <td>8.82</td>\n",
       "      <td>https://cdn.myanimelist.net/images/anime/9/766...</td>\n",
       "      <td>https://myanimelist.net/anime/28891/Haikyuu_Se...</td>\n",
       "    </tr>\n",
       "    <tr>\n",
       "      <th>1</th>\n",
       "      <td>23273</td>\n",
       "      <td>Shigatsu wa Kimi no Uso</td>\n",
       "      <td>Music accompanies the path of the human metron...</td>\n",
       "      <td>['Drama', 'Music', 'Romance', 'School', 'Shoun...</td>\n",
       "      <td>Oct 10, 2014 to Mar 20, 2015</td>\n",
       "      <td>22.0</td>\n",
       "      <td>995473</td>\n",
       "      <td>28</td>\n",
       "      <td>24.0</td>\n",
       "      <td>8.83</td>\n",
       "      <td>https://cdn.myanimelist.net/images/anime/3/671...</td>\n",
       "      <td>https://myanimelist.net/anime/23273/Shigatsu_w...</td>\n",
       "    </tr>\n",
       "    <tr>\n",
       "      <th>2</th>\n",
       "      <td>34599</td>\n",
       "      <td>Made in Abyss</td>\n",
       "      <td>The Abyss—a gaping chasm stretching down into ...</td>\n",
       "      <td>['Sci-Fi', 'Adventure', 'Mystery', 'Drama', 'F...</td>\n",
       "      <td>Jul 7, 2017 to Sep 29, 2017</td>\n",
       "      <td>13.0</td>\n",
       "      <td>581663</td>\n",
       "      <td>98</td>\n",
       "      <td>23.0</td>\n",
       "      <td>8.83</td>\n",
       "      <td>https://cdn.myanimelist.net/images/anime/6/867...</td>\n",
       "      <td>https://myanimelist.net/anime/34599/Made_in_Abyss</td>\n",
       "    </tr>\n",
       "    <tr>\n",
       "      <th>3</th>\n",
       "      <td>5114</td>\n",
       "      <td>Fullmetal Alchemist: Brotherhood</td>\n",
       "      <td>\"In order for something to be obtained, someth...</td>\n",
       "      <td>['Action', 'Military', 'Adventure', 'Comedy', ...</td>\n",
       "      <td>Apr 5, 2009 to Jul 4, 2010</td>\n",
       "      <td>64.0</td>\n",
       "      <td>1615084</td>\n",
       "      <td>4</td>\n",
       "      <td>1.0</td>\n",
       "      <td>9.23</td>\n",
       "      <td>https://cdn.myanimelist.net/images/anime/1223/...</td>\n",
       "      <td>https://myanimelist.net/anime/5114/Fullmetal_A...</td>\n",
       "    </tr>\n",
       "    <tr>\n",
       "      <th>4</th>\n",
       "      <td>31758</td>\n",
       "      <td>Kizumonogatari III: Reiketsu-hen</td>\n",
       "      <td>After helping revive the legendary vampire Kis...</td>\n",
       "      <td>['Action', 'Mystery', 'Supernatural', 'Vampire']</td>\n",
       "      <td>Jan 6, 2017</td>\n",
       "      <td>1.0</td>\n",
       "      <td>214621</td>\n",
       "      <td>502</td>\n",
       "      <td>22.0</td>\n",
       "      <td>8.83</td>\n",
       "      <td>https://cdn.myanimelist.net/images/anime/3/815...</td>\n",
       "      <td>https://myanimelist.net/anime/31758/Kizumonoga...</td>\n",
       "    </tr>\n",
       "  </tbody>\n",
       "</table>\n",
       "</div>"
      ],
      "text/plain": [
       "     uid                             title  \\\n",
       "0  28891           Haikyuu!! Second Season   \n",
       "1  23273           Shigatsu wa Kimi no Uso   \n",
       "2  34599                     Made in Abyss   \n",
       "3   5114  Fullmetal Alchemist: Brotherhood   \n",
       "4  31758  Kizumonogatari III: Reiketsu-hen   \n",
       "\n",
       "                                            synopsis  \\\n",
       "0  Following their participation at the Inter-Hig...   \n",
       "1  Music accompanies the path of the human metron...   \n",
       "2  The Abyss—a gaping chasm stretching down into ...   \n",
       "3  \"In order for something to be obtained, someth...   \n",
       "4  After helping revive the legendary vampire Kis...   \n",
       "\n",
       "                                               genre  \\\n",
       "0  ['Comedy', 'Sports', 'Drama', 'School', 'Shoun...   \n",
       "1  ['Drama', 'Music', 'Romance', 'School', 'Shoun...   \n",
       "2  ['Sci-Fi', 'Adventure', 'Mystery', 'Drama', 'F...   \n",
       "3  ['Action', 'Military', 'Adventure', 'Comedy', ...   \n",
       "4   ['Action', 'Mystery', 'Supernatural', 'Vampire']   \n",
       "\n",
       "                          aired  episodes  members  popularity  ranked  score  \\\n",
       "0   Oct 4, 2015 to Mar 27, 2016      25.0   489888         141    25.0   8.82   \n",
       "1  Oct 10, 2014 to Mar 20, 2015      22.0   995473          28    24.0   8.83   \n",
       "2   Jul 7, 2017 to Sep 29, 2017      13.0   581663          98    23.0   8.83   \n",
       "3    Apr 5, 2009 to Jul 4, 2010      64.0  1615084           4     1.0   9.23   \n",
       "4                   Jan 6, 2017       1.0   214621         502    22.0   8.83   \n",
       "\n",
       "                                             img_url  \\\n",
       "0  https://cdn.myanimelist.net/images/anime/9/766...   \n",
       "1  https://cdn.myanimelist.net/images/anime/3/671...   \n",
       "2  https://cdn.myanimelist.net/images/anime/6/867...   \n",
       "3  https://cdn.myanimelist.net/images/anime/1223/...   \n",
       "4  https://cdn.myanimelist.net/images/anime/3/815...   \n",
       "\n",
       "                                                link  \n",
       "0  https://myanimelist.net/anime/28891/Haikyuu_Se...  \n",
       "1  https://myanimelist.net/anime/23273/Shigatsu_w...  \n",
       "2  https://myanimelist.net/anime/34599/Made_in_Abyss  \n",
       "3  https://myanimelist.net/anime/5114/Fullmetal_A...  \n",
       "4  https://myanimelist.net/anime/31758/Kizumonoga...  "
      ]
     },
     "execution_count": 5,
     "metadata": {},
     "output_type": "execute_result"
    }
   ],
   "source": [
    "animes_df.head(5)"
   ]
  },
  {
   "cell_type": "code",
   "execution_count": null,
   "id": "1dfdc9da",
   "metadata": {},
   "outputs": [],
   "source": []
  },
  {
   "cell_type": "code",
   "execution_count": 53,
   "id": "623c6907",
   "metadata": {},
   "outputs": [
    {
     "data": {
      "text/plain": [
       "0"
      ]
     },
     "execution_count": 53,
     "metadata": {},
     "output_type": "execute_result"
    }
   ],
   "source": [
    "animes_df.genre.isnull().sum()"
   ]
  },
  {
   "cell_type": "code",
   "execution_count": 51,
   "id": "68fdbba1",
   "metadata": {},
   "outputs": [
    {
     "name": "stdout",
     "output_type": "stream",
     "text": [
      "The number of genres is 44.\n",
      "{'', 'Comedy', 'Fantasy', 'Game', 'Police', 'Action', 'Parody', 'Slice of Life', 'Adventure', 'Music', 'Sci-Fi', 'Yaoi', 'Shounen', 'Thriller', 'Cars', 'Kids', 'Josei', 'Yuri', 'Military', 'Super Power', 'Dementia', 'School', 'Samurai', 'Psychological', 'Mystery', 'Hentai', 'Romance', 'Space', 'Supernatural', 'Ecchi', 'Sports', 'Shoujo', 'Drama', 'Vampire', 'Demons', 'Martial Arts', 'Historical', 'Mecha', 'Seinen', 'Shoujo Ai', 'Horror', 'Harem', 'Shounen Ai', 'Magic'}\n"
     ]
    }
   ],
   "source": [
    "genres = []\n",
    "for genre_set in animes_df.genre:\n",
    "    values = genre_set.strip(\"[]\").split(\",\")\n",
    "    values = [w.strip()[1:-1] for w in values]\n",
    "    genres.extend(values)\n",
    "\n",
    "genres = set(genres)\n",
    "print(\"The number of genres is {}.\".format(len(genres)))\n",
    "print(genres)"
   ]
  },
  {
   "cell_type": "markdown",
   "id": "05f9e4be",
   "metadata": {},
   "source": [
    "Notice the first element is empty. This happend when calling set(genres). We can quickly delete that."
   ]
  },
  {
   "cell_type": "code",
   "execution_count": 52,
   "id": "446ea763",
   "metadata": {},
   "outputs": [
    {
     "name": "stdout",
     "output_type": "stream",
     "text": [
      "The number of genres is 43.\n",
      "['Comedy', 'Fantasy', 'Game', 'Police', 'Action', 'Parody', 'Slice of Life', 'Adventure', 'Music', 'Sci-Fi', 'Yaoi', 'Shounen', 'Thriller', 'Cars', 'Kids', 'Josei', 'Yuri', 'Military', 'Super Power', 'Dementia', 'School', 'Samurai', 'Psychological', 'Mystery', 'Hentai', 'Romance', 'Space', 'Supernatural', 'Ecchi', 'Sports', 'Shoujo', 'Drama', 'Vampire', 'Demons', 'Martial Arts', 'Historical', 'Mecha', 'Seinen', 'Shoujo Ai', 'Horror', 'Harem', 'Shounen Ai', 'Magic']\n"
     ]
    }
   ],
   "source": [
    "genres = list(genres)\n",
    "genres.pop(0)\n",
    "print(\"The number of genres is {}.\".format(len(genres)))\n",
    "print(genres)"
   ]
  },
  {
   "cell_type": "code",
   "execution_count": 58,
   "id": "d5d9c83d",
   "metadata": {},
   "outputs": [
    {
     "data": {
      "text/plain": [
       "12"
      ]
     },
     "execution_count": 58,
     "metadata": {},
     "output_type": "execute_result"
    }
   ],
   "source": [
    "animes_df.genre[0].find(\"Sports\")"
   ]
  },
  {
   "cell_type": "code",
   "execution_count": 59,
   "id": "0fd333d7",
   "metadata": {},
   "outputs": [],
   "source": [
    "def split_genres(movie):\n",
    "    try:\n",
    "        if movie.find(genre) > -1:\n",
    "            return 1\n",
    "        else:\n",
    "            return 0\n",
    "    except AttributeError:\n",
    "        return 0\n",
    "\n",
    "for genre in genres:\n",
    "    animes_df[genre] = animes_df['genre'].apply(split_genres)"
   ]
  },
  {
   "cell_type": "code",
   "execution_count": 61,
   "id": "d14626c5",
   "metadata": {},
   "outputs": [
    {
     "data": {
      "text/plain": [
       "uid                                                            269\n",
       "title                                                       Bleach\n",
       "synopsis         Ichigo Kurosaki is an ordinary high schooler—u...\n",
       "genre            ['Action', 'Adventure', 'Comedy', 'Super Power...\n",
       "aired                                  Oct 5, 2004 to Mar 27, 2012\n",
       "episodes                                                     366.0\n",
       "members                                                    1002578\n",
       "popularity                                                      25\n",
       "ranked                                                       757.0\n",
       "score                                                         7.87\n",
       "img_url          https://cdn.myanimelist.net/images/anime/3/404...\n",
       "link                      https://myanimelist.net/anime/269/Bleach\n",
       "Comedy                                                           1\n",
       "Fantasy                                                          0\n",
       "Game                                                             0\n",
       "Police                                                           0\n",
       "Action                                                           1\n",
       "Parody                                                           0\n",
       "Slice of Life                                                    0\n",
       "Adventure                                                        1\n",
       "Music                                                            0\n",
       "Sci-Fi                                                           0\n",
       "Yaoi                                                             0\n",
       "Shounen                                                          1\n",
       "Thriller                                                         0\n",
       "Cars                                                             0\n",
       "Kids                                                             0\n",
       "Josei                                                            0\n",
       "Yuri                                                             0\n",
       "Military                                                         0\n",
       "Super Power                                                      1\n",
       "Dementia                                                         0\n",
       "School                                                           0\n",
       "Samurai                                                          0\n",
       "Psychological                                                    0\n",
       "Mystery                                                          0\n",
       "Hentai                                                           0\n",
       "Romance                                                          0\n",
       "Space                                                            0\n",
       "Supernatural                                                     1\n",
       "Ecchi                                                            0\n",
       "Sports                                                           0\n",
       "Shoujo                                                           0\n",
       "Drama                                                            0\n",
       "Vampire                                                          0\n",
       "Demons                                                           0\n",
       "Martial Arts                                                     0\n",
       "Historical                                                       0\n",
       "Mecha                                                            0\n",
       "Seinen                                                           0\n",
       "Shoujo Ai                                                        0\n",
       "Horror                                                           0\n",
       "Harem                                                            0\n",
       "Shounen Ai                                                       0\n",
       "Magic                                                            0\n",
       "Name: 59, dtype: object"
      ]
     },
     "execution_count": 61,
     "metadata": {},
     "output_type": "execute_result"
    }
   ],
   "source": [
    "animes_df.iloc[59]"
   ]
  },
  {
   "cell_type": "code",
   "execution_count": null,
   "id": "27338133",
   "metadata": {},
   "outputs": [],
   "source": []
  }
 ],
 "metadata": {
  "kernelspec": {
   "display_name": "Python 3 (ipykernel)",
   "language": "python",
   "name": "python3"
  },
  "language_info": {
   "codemirror_mode": {
    "name": "ipython",
    "version": 3
   },
   "file_extension": ".py",
   "mimetype": "text/x-python",
   "name": "python",
   "nbconvert_exporter": "python",
   "pygments_lexer": "ipython3",
   "version": "3.9.7"
  }
 },
 "nbformat": 4,
 "nbformat_minor": 5
}
