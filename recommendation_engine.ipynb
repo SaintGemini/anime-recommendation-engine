{
 "cells": [
  {
   "cell_type": "markdown",
   "id": "87cb1e68",
   "metadata": {},
   "source": [
    "# Data Preprocessing"
   ]
  },
  {
   "cell_type": "markdown",
   "id": "d33c1e08",
   "metadata": {},
   "source": [
    "## Import Libraries"
   ]
  },
  {
   "cell_type": "code",
   "execution_count": 10,
   "id": "171608e6",
   "metadata": {},
   "outputs": [],
   "source": [
    "import numpy as np\n",
    "import pandas as pd\n",
    "import matplotlib.pyplot as plt\n",
    "%matplotlib inline"
   ]
  },
  {
   "cell_type": "markdown",
   "id": "f5d53817",
   "metadata": {},
   "source": [
    "## Read in Data"
   ]
  },
  {
   "cell_type": "code",
   "execution_count": 140,
   "id": "4ceab4fd",
   "metadata": {},
   "outputs": [
    {
     "name": "stdout",
     "output_type": "stream",
     "text": [
      "Animes DF: (19311, 12)\n",
      "Reviews DF: (192112, 7)\n"
     ]
    }
   ],
   "source": [
    "animes_df = pd.read_csv('data/animes.csv')\n",
    "reviews_df = pd.read_csv('data/reviews.csv')\n",
    "\n",
    "print(\"Animes DF: {}\\nReviews DF: {}\".format(animes_df.shape, reviews_df.shape))"
   ]
  },
  {
   "cell_type": "markdown",
   "id": "f1500ba6",
   "metadata": {},
   "source": [
    "## animes.csv cleaning\n",
    "- get rid of columns I won't use\n",
    "- check for any duplicate or null values. if so, get rid of them\n",
    "- separate the genres column\n",
    "- extract aired date"
   ]
  },
  {
   "cell_type": "code",
   "execution_count": 168,
   "id": "b97967e9",
   "metadata": {
    "scrolled": true
   },
   "outputs": [
    {
     "data": {
      "text/html": [
       "<div>\n",
       "<style scoped>\n",
       "    .dataframe tbody tr th:only-of-type {\n",
       "        vertical-align: middle;\n",
       "    }\n",
       "\n",
       "    .dataframe tbody tr th {\n",
       "        vertical-align: top;\n",
       "    }\n",
       "\n",
       "    .dataframe thead th {\n",
       "        text-align: right;\n",
       "    }\n",
       "</style>\n",
       "<table border=\"1\" class=\"dataframe\">\n",
       "  <thead>\n",
       "    <tr style=\"text-align: right;\">\n",
       "      <th></th>\n",
       "      <th>uid</th>\n",
       "      <th>title</th>\n",
       "      <th>synopsis</th>\n",
       "      <th>genre</th>\n",
       "      <th>aired</th>\n",
       "      <th>episodes</th>\n",
       "      <th>members</th>\n",
       "      <th>popularity</th>\n",
       "      <th>ranked</th>\n",
       "      <th>score</th>\n",
       "      <th>img_url</th>\n",
       "      <th>link</th>\n",
       "    </tr>\n",
       "  </thead>\n",
       "  <tbody>\n",
       "    <tr>\n",
       "      <th>0</th>\n",
       "      <td>28891</td>\n",
       "      <td>Haikyuu!! Second Season</td>\n",
       "      <td>Following their participation at the Inter-Hig...</td>\n",
       "      <td>['Comedy', 'Sports', 'Drama', 'School', 'Shoun...</td>\n",
       "      <td>Oct 4, 2015 to Mar 27, 2016</td>\n",
       "      <td>25.0</td>\n",
       "      <td>489888</td>\n",
       "      <td>141</td>\n",
       "      <td>25.0</td>\n",
       "      <td>8.82</td>\n",
       "      <td>https://cdn.myanimelist.net/images/anime/9/766...</td>\n",
       "      <td>https://myanimelist.net/anime/28891/Haikyuu_Se...</td>\n",
       "    </tr>\n",
       "    <tr>\n",
       "      <th>1</th>\n",
       "      <td>23273</td>\n",
       "      <td>Shigatsu wa Kimi no Uso</td>\n",
       "      <td>Music accompanies the path of the human metron...</td>\n",
       "      <td>['Drama', 'Music', 'Romance', 'School', 'Shoun...</td>\n",
       "      <td>Oct 10, 2014 to Mar 20, 2015</td>\n",
       "      <td>22.0</td>\n",
       "      <td>995473</td>\n",
       "      <td>28</td>\n",
       "      <td>24.0</td>\n",
       "      <td>8.83</td>\n",
       "      <td>https://cdn.myanimelist.net/images/anime/3/671...</td>\n",
       "      <td>https://myanimelist.net/anime/23273/Shigatsu_w...</td>\n",
       "    </tr>\n",
       "    <tr>\n",
       "      <th>2</th>\n",
       "      <td>34599</td>\n",
       "      <td>Made in Abyss</td>\n",
       "      <td>The Abyss—a gaping chasm stretching down into ...</td>\n",
       "      <td>['Sci-Fi', 'Adventure', 'Mystery', 'Drama', 'F...</td>\n",
       "      <td>Jul 7, 2017 to Sep 29, 2017</td>\n",
       "      <td>13.0</td>\n",
       "      <td>581663</td>\n",
       "      <td>98</td>\n",
       "      <td>23.0</td>\n",
       "      <td>8.83</td>\n",
       "      <td>https://cdn.myanimelist.net/images/anime/6/867...</td>\n",
       "      <td>https://myanimelist.net/anime/34599/Made_in_Abyss</td>\n",
       "    </tr>\n",
       "    <tr>\n",
       "      <th>3</th>\n",
       "      <td>5114</td>\n",
       "      <td>Fullmetal Alchemist: Brotherhood</td>\n",
       "      <td>\"In order for something to be obtained, someth...</td>\n",
       "      <td>['Action', 'Military', 'Adventure', 'Comedy', ...</td>\n",
       "      <td>Apr 5, 2009 to Jul 4, 2010</td>\n",
       "      <td>64.0</td>\n",
       "      <td>1615084</td>\n",
       "      <td>4</td>\n",
       "      <td>1.0</td>\n",
       "      <td>9.23</td>\n",
       "      <td>https://cdn.myanimelist.net/images/anime/1223/...</td>\n",
       "      <td>https://myanimelist.net/anime/5114/Fullmetal_A...</td>\n",
       "    </tr>\n",
       "    <tr>\n",
       "      <th>4</th>\n",
       "      <td>31758</td>\n",
       "      <td>Kizumonogatari III: Reiketsu-hen</td>\n",
       "      <td>After helping revive the legendary vampire Kis...</td>\n",
       "      <td>['Action', 'Mystery', 'Supernatural', 'Vampire']</td>\n",
       "      <td>Jan 6, 2017</td>\n",
       "      <td>1.0</td>\n",
       "      <td>214621</td>\n",
       "      <td>502</td>\n",
       "      <td>22.0</td>\n",
       "      <td>8.83</td>\n",
       "      <td>https://cdn.myanimelist.net/images/anime/3/815...</td>\n",
       "      <td>https://myanimelist.net/anime/31758/Kizumonoga...</td>\n",
       "    </tr>\n",
       "  </tbody>\n",
       "</table>\n",
       "</div>"
      ],
      "text/plain": [
       "     uid                             title  \\\n",
       "0  28891           Haikyuu!! Second Season   \n",
       "1  23273           Shigatsu wa Kimi no Uso   \n",
       "2  34599                     Made in Abyss   \n",
       "3   5114  Fullmetal Alchemist: Brotherhood   \n",
       "4  31758  Kizumonogatari III: Reiketsu-hen   \n",
       "\n",
       "                                            synopsis  \\\n",
       "0  Following their participation at the Inter-Hig...   \n",
       "1  Music accompanies the path of the human metron...   \n",
       "2  The Abyss—a gaping chasm stretching down into ...   \n",
       "3  \"In order for something to be obtained, someth...   \n",
       "4  After helping revive the legendary vampire Kis...   \n",
       "\n",
       "                                               genre  \\\n",
       "0  ['Comedy', 'Sports', 'Drama', 'School', 'Shoun...   \n",
       "1  ['Drama', 'Music', 'Romance', 'School', 'Shoun...   \n",
       "2  ['Sci-Fi', 'Adventure', 'Mystery', 'Drama', 'F...   \n",
       "3  ['Action', 'Military', 'Adventure', 'Comedy', ...   \n",
       "4   ['Action', 'Mystery', 'Supernatural', 'Vampire']   \n",
       "\n",
       "                          aired  episodes  members  popularity  ranked  score  \\\n",
       "0   Oct 4, 2015 to Mar 27, 2016      25.0   489888         141    25.0   8.82   \n",
       "1  Oct 10, 2014 to Mar 20, 2015      22.0   995473          28    24.0   8.83   \n",
       "2   Jul 7, 2017 to Sep 29, 2017      13.0   581663          98    23.0   8.83   \n",
       "3    Apr 5, 2009 to Jul 4, 2010      64.0  1615084           4     1.0   9.23   \n",
       "4                   Jan 6, 2017       1.0   214621         502    22.0   8.83   \n",
       "\n",
       "                                             img_url  \\\n",
       "0  https://cdn.myanimelist.net/images/anime/9/766...   \n",
       "1  https://cdn.myanimelist.net/images/anime/3/671...   \n",
       "2  https://cdn.myanimelist.net/images/anime/6/867...   \n",
       "3  https://cdn.myanimelist.net/images/anime/1223/...   \n",
       "4  https://cdn.myanimelist.net/images/anime/3/815...   \n",
       "\n",
       "                                                link  \n",
       "0  https://myanimelist.net/anime/28891/Haikyuu_Se...  \n",
       "1  https://myanimelist.net/anime/23273/Shigatsu_w...  \n",
       "2  https://myanimelist.net/anime/34599/Made_in_Abyss  \n",
       "3  https://myanimelist.net/anime/5114/Fullmetal_A...  \n",
       "4  https://myanimelist.net/anime/31758/Kizumonoga...  "
      ]
     },
     "execution_count": 168,
     "metadata": {},
     "output_type": "execute_result"
    }
   ],
   "source": [
    "animes_df.head()"
   ]
  },
  {
   "cell_type": "code",
   "execution_count": 169,
   "id": "696279a5",
   "metadata": {
    "scrolled": true
   },
   "outputs": [
    {
     "data": {
      "text/plain": [
       "(19311, 12)"
      ]
     },
     "execution_count": 169,
     "metadata": {},
     "output_type": "execute_result"
    }
   ],
   "source": [
    "# check size of data\n",
    "animes_df.shape"
   ]
  },
  {
   "cell_type": "code",
   "execution_count": 170,
   "id": "4010bfeb",
   "metadata": {},
   "outputs": [
    {
     "data": {
      "text/plain": [
       "uid             int64\n",
       "title          object\n",
       "synopsis       object\n",
       "genre          object\n",
       "aired          object\n",
       "episodes      float64\n",
       "members         int64\n",
       "popularity      int64\n",
       "ranked        float64\n",
       "score         float64\n",
       "img_url        object\n",
       "link           object\n",
       "dtype: object"
      ]
     },
     "execution_count": 170,
     "metadata": {},
     "output_type": "execute_result"
    }
   ],
   "source": [
    "# check column types\n",
    "animes_df.dtypes"
   ]
  },
  {
   "cell_type": "markdown",
   "id": "38894210",
   "metadata": {},
   "source": [
    "Step 1: Only keep columns that will be used"
   ]
  },
  {
   "cell_type": "code",
   "execution_count": 171,
   "id": "d33885cb",
   "metadata": {},
   "outputs": [],
   "source": [
    "# grab the columns that will be used\n",
    "animes_df = animes_df[['uid', 'title', 'genre', 'aired', 'ranked', 'score']]"
   ]
  },
  {
   "cell_type": "markdown",
   "id": "e5c7eb0f",
   "metadata": {},
   "source": [
    "Step 2: Check for duplicate rows or null values. If they exist, get rid of them."
   ]
  },
  {
   "cell_type": "code",
   "execution_count": 172,
   "id": "7d1c44f8",
   "metadata": {
    "scrolled": true
   },
   "outputs": [
    {
     "data": {
      "text/plain": [
       "3085"
      ]
     },
     "execution_count": 172,
     "metadata": {},
     "output_type": "execute_result"
    }
   ],
   "source": [
    "# check for duplicate rows\n",
    "animes_df.duplicated().sum()"
   ]
  },
  {
   "cell_type": "code",
   "execution_count": 173,
   "id": "18b3de6b",
   "metadata": {},
   "outputs": [],
   "source": [
    "# drop duplicate rows\n",
    "animes_df.drop_duplicates(inplace=True)"
   ]
  },
  {
   "cell_type": "code",
   "execution_count": 174,
   "id": "ba280fbd",
   "metadata": {
    "scrolled": true
   },
   "outputs": [
    {
     "data": {
      "text/plain": [
       "0"
      ]
     },
     "execution_count": 174,
     "metadata": {},
     "output_type": "execute_result"
    }
   ],
   "source": [
    "# check for duplicate rows\n",
    "animes_df.duplicated().sum()"
   ]
  },
  {
   "cell_type": "code",
   "execution_count": 175,
   "id": "ac987004",
   "metadata": {},
   "outputs": [
    {
     "data": {
      "text/plain": [
       "(16226, 6)"
      ]
     },
     "execution_count": 175,
     "metadata": {},
     "output_type": "execute_result"
    }
   ],
   "source": [
    "animes_df.shape"
   ]
  },
  {
   "cell_type": "code",
   "execution_count": 176,
   "id": "d9d50425",
   "metadata": {
    "scrolled": false
   },
   "outputs": [
    {
     "data": {
      "text/plain": [
       "uid          0\n",
       "title        0\n",
       "genre        0\n",
       "aired        0\n",
       "ranked    1663\n",
       "score      341\n",
       "dtype: int64"
      ]
     },
     "execution_count": 176,
     "metadata": {},
     "output_type": "execute_result"
    }
   ],
   "source": [
    "# check how many values in each row is null\n",
    "animes_df.isnull().sum()"
   ]
  },
  {
   "cell_type": "code",
   "execution_count": 177,
   "id": "355313b1",
   "metadata": {},
   "outputs": [],
   "source": [
    "# get rid of any row with null value in ranked column\n",
    "animes_df = animes_df[animes_df['ranked'].notnull()]"
   ]
  },
  {
   "cell_type": "code",
   "execution_count": 178,
   "id": "e793ca7f",
   "metadata": {
    "scrolled": false
   },
   "outputs": [
    {
     "data": {
      "text/plain": [
       "uid       0\n",
       "title     0\n",
       "genre     0\n",
       "aired     0\n",
       "ranked    0\n",
       "score     0\n",
       "dtype: int64"
      ]
     },
     "execution_count": 178,
     "metadata": {},
     "output_type": "execute_result"
    }
   ],
   "source": [
    "# check how many values in each row is null\n",
    "animes_df.isnull().sum()"
   ]
  },
  {
   "cell_type": "code",
   "execution_count": 179,
   "id": "c61d65af",
   "metadata": {},
   "outputs": [
    {
     "data": {
      "text/plain": [
       "(14563, 6)"
      ]
     },
     "execution_count": 179,
     "metadata": {},
     "output_type": "execute_result"
    }
   ],
   "source": [
    "animes_df.shape"
   ]
  },
  {
   "cell_type": "markdown",
   "id": "aa8bc152",
   "metadata": {},
   "source": [
    "Step 3: Separating the genre column. The goal here is to create a column for every available genre and put a 1 in a cell if a show belongs to that genre, 0 otherwise."
   ]
  },
  {
   "cell_type": "code",
   "execution_count": 13,
   "id": "527b5be0",
   "metadata": {
    "scrolled": true
   },
   "outputs": [
    {
     "data": {
      "text/plain": [
       "\"['Comedy', 'Sports', 'Drama', 'School', 'Shounen']\""
      ]
     },
     "execution_count": 13,
     "metadata": {},
     "output_type": "execute_result"
    }
   ],
   "source": [
    "# grab an entry of 'genre' to see format of string\n",
    "animes_df.iloc[0]['genre']"
   ]
  },
  {
   "cell_type": "code",
   "execution_count": 14,
   "id": "6c04795b",
   "metadata": {},
   "outputs": [
    {
     "name": "stdout",
     "output_type": "stream",
     "text": [
      "The number of genres is 41.\n",
      "{'', 'Mystery', 'Cars', 'Shoujo Ai', 'Sci-Fi', 'Thriller', 'Slice of Life', 'Drama', 'Action', 'Magic', 'Game', 'Harem', 'Historical', 'Seinen', 'Police', 'Vampire', 'Super Power', 'Shoujo', 'Kids', 'Parody', 'Sports', 'Military', 'Psychological', 'School', 'Fantasy', 'Shounen Ai', 'Demons', 'Ecchi', 'Shounen', 'Space', 'Horror', 'Josei', 'Martial Arts', 'Supernatural', 'Samurai', 'Romance', 'Music', 'Adventure', 'Dementia', 'Comedy', 'Mecha'}\n"
     ]
    }
   ],
   "source": [
    "genres = []\n",
    "\n",
    "# for every anime, split the genre column value to get each genre type\n",
    "for genre_set in animes_df.genre:\n",
    "    values = genre_set.strip(\"[]\").split(\",\")\n",
    "    values = [w.strip()[1:-1] for w in values]\n",
    "    \n",
    "    # add genres to list\n",
    "    genres.extend(values)\n",
    "\n",
    "# drop all duplicate values\n",
    "genres = set(genres)\n",
    "print(\"The number of genres is {}.\".format(len(genres)))\n",
    "print(genres)"
   ]
  },
  {
   "cell_type": "markdown",
   "id": "f3873b0d",
   "metadata": {},
   "source": [
    "Notice the first element is empty. This happend when calling split(\",\"). We can quickly delete that and alphabetize the list of genres for readability."
   ]
  },
  {
   "cell_type": "code",
   "execution_count": 15,
   "id": "4310ce27",
   "metadata": {
    "scrolled": true
   },
   "outputs": [
    {
     "name": "stdout",
     "output_type": "stream",
     "text": [
      "The number of genres is 40.\n",
      "['Action', 'Adventure', 'Cars', 'Comedy', 'Dementia', 'Demons', 'Drama', 'Ecchi', 'Fantasy', 'Game', 'Harem', 'Historical', 'Horror', 'Josei', 'Kids', 'Magic', 'Martial Arts', 'Mecha', 'Military', 'Music', 'Mystery', 'Parody', 'Police', 'Psychological', 'Romance', 'Samurai', 'School', 'Sci-Fi', 'Seinen', 'Shoujo', 'Shoujo Ai', 'Shounen', 'Shounen Ai', 'Slice of Life', 'Space', 'Sports', 'Super Power', 'Supernatural', 'Thriller', 'Vampire']\n"
     ]
    }
   ],
   "source": [
    "# delete first empty element\n",
    "genres = list(genres)\n",
    "genres.pop(0)\n",
    "# alphabetize the list of genres\n",
    "genres = sorted(genres)\n",
    "print(\"The number of genres is {}.\".format(len(genres)))\n",
    "print(genres)"
   ]
  },
  {
   "cell_type": "markdown",
   "id": "1ee7c608",
   "metadata": {},
   "source": [
    "Now that I have a list of all possible genre types. I wanted to make a column for each genre. The value of the column will be a 1 if an anime is listed under this genre or a 0 if it is not."
   ]
  },
  {
   "cell_type": "code",
   "execution_count": 16,
   "id": "3a74fc53",
   "metadata": {},
   "outputs": [],
   "source": [
    "def split_genres(anime):\n",
    "    '''\n",
    "    Will split the genre column of any anime row and return a 1 if the anime is listed in that genre.\n",
    "    \n",
    "    INPUT:\n",
    "    anime - a string of the genres column for a specific anime\n",
    "    \n",
    "    OUTPUT:\n",
    "    1 - if anime is listed in genre\n",
    "    0 - if anime is not listed in genre\n",
    "    '''\n",
    "    try:\n",
    "        # if genre is listed in the 'genre' column of an anime\n",
    "        if anime.find(genre) > -1:\n",
    "            return 1\n",
    "        else:\n",
    "            return 0\n",
    "    except AttributeError:\n",
    "        return 0\n",
    "\n",
    "# create column for each genre and fill in columns\n",
    "for genre in genres:\n",
    "    animes_df[genre] = animes_df['genre'].apply(split_genres)"
   ]
  },
  {
   "cell_type": "markdown",
   "id": "26f1ad81",
   "metadata": {},
   "source": [
    "Now there is an easier way to identify the genres that an anime is listed as. This will be used for filtering and content based recommendations."
   ]
  },
  {
   "cell_type": "code",
   "execution_count": 17,
   "id": "b1fa8e23",
   "metadata": {
    "scrolled": true
   },
   "outputs": [
    {
     "data": {
      "text/html": [
       "<div>\n",
       "<style scoped>\n",
       "    .dataframe tbody tr th:only-of-type {\n",
       "        vertical-align: middle;\n",
       "    }\n",
       "\n",
       "    .dataframe tbody tr th {\n",
       "        vertical-align: top;\n",
       "    }\n",
       "\n",
       "    .dataframe thead th {\n",
       "        text-align: right;\n",
       "    }\n",
       "</style>\n",
       "<table border=\"1\" class=\"dataframe\">\n",
       "  <thead>\n",
       "    <tr style=\"text-align: right;\">\n",
       "      <th></th>\n",
       "      <th>uid</th>\n",
       "      <th>title</th>\n",
       "      <th>genre</th>\n",
       "      <th>aired</th>\n",
       "      <th>ranked</th>\n",
       "      <th>score</th>\n",
       "      <th>Action</th>\n",
       "      <th>Adventure</th>\n",
       "      <th>Cars</th>\n",
       "      <th>Comedy</th>\n",
       "      <th>...</th>\n",
       "      <th>Shoujo Ai</th>\n",
       "      <th>Shounen</th>\n",
       "      <th>Shounen Ai</th>\n",
       "      <th>Slice of Life</th>\n",
       "      <th>Space</th>\n",
       "      <th>Sports</th>\n",
       "      <th>Super Power</th>\n",
       "      <th>Supernatural</th>\n",
       "      <th>Thriller</th>\n",
       "      <th>Vampire</th>\n",
       "    </tr>\n",
       "  </thead>\n",
       "  <tbody>\n",
       "    <tr>\n",
       "      <th>0</th>\n",
       "      <td>28891</td>\n",
       "      <td>Haikyuu!! Second Season</td>\n",
       "      <td>['Comedy', 'Sports', 'Drama', 'School', 'Shoun...</td>\n",
       "      <td>Oct 4, 2015 to Mar 27, 2016</td>\n",
       "      <td>25.0</td>\n",
       "      <td>8.82</td>\n",
       "      <td>0</td>\n",
       "      <td>0</td>\n",
       "      <td>0</td>\n",
       "      <td>1</td>\n",
       "      <td>...</td>\n",
       "      <td>0</td>\n",
       "      <td>1</td>\n",
       "      <td>0</td>\n",
       "      <td>0</td>\n",
       "      <td>0</td>\n",
       "      <td>1</td>\n",
       "      <td>0</td>\n",
       "      <td>0</td>\n",
       "      <td>0</td>\n",
       "      <td>0</td>\n",
       "    </tr>\n",
       "    <tr>\n",
       "      <th>1</th>\n",
       "      <td>23273</td>\n",
       "      <td>Shigatsu wa Kimi no Uso</td>\n",
       "      <td>['Drama', 'Music', 'Romance', 'School', 'Shoun...</td>\n",
       "      <td>Oct 10, 2014 to Mar 20, 2015</td>\n",
       "      <td>24.0</td>\n",
       "      <td>8.83</td>\n",
       "      <td>0</td>\n",
       "      <td>0</td>\n",
       "      <td>0</td>\n",
       "      <td>0</td>\n",
       "      <td>...</td>\n",
       "      <td>0</td>\n",
       "      <td>1</td>\n",
       "      <td>0</td>\n",
       "      <td>0</td>\n",
       "      <td>0</td>\n",
       "      <td>0</td>\n",
       "      <td>0</td>\n",
       "      <td>0</td>\n",
       "      <td>0</td>\n",
       "      <td>0</td>\n",
       "    </tr>\n",
       "    <tr>\n",
       "      <th>2</th>\n",
       "      <td>34599</td>\n",
       "      <td>Made in Abyss</td>\n",
       "      <td>['Sci-Fi', 'Adventure', 'Mystery', 'Drama', 'F...</td>\n",
       "      <td>Jul 7, 2017 to Sep 29, 2017</td>\n",
       "      <td>23.0</td>\n",
       "      <td>8.83</td>\n",
       "      <td>0</td>\n",
       "      <td>1</td>\n",
       "      <td>0</td>\n",
       "      <td>0</td>\n",
       "      <td>...</td>\n",
       "      <td>0</td>\n",
       "      <td>0</td>\n",
       "      <td>0</td>\n",
       "      <td>0</td>\n",
       "      <td>0</td>\n",
       "      <td>0</td>\n",
       "      <td>0</td>\n",
       "      <td>0</td>\n",
       "      <td>0</td>\n",
       "      <td>0</td>\n",
       "    </tr>\n",
       "    <tr>\n",
       "      <th>3</th>\n",
       "      <td>5114</td>\n",
       "      <td>Fullmetal Alchemist: Brotherhood</td>\n",
       "      <td>['Action', 'Military', 'Adventure', 'Comedy', ...</td>\n",
       "      <td>Apr 5, 2009 to Jul 4, 2010</td>\n",
       "      <td>1.0</td>\n",
       "      <td>9.23</td>\n",
       "      <td>1</td>\n",
       "      <td>1</td>\n",
       "      <td>0</td>\n",
       "      <td>1</td>\n",
       "      <td>...</td>\n",
       "      <td>0</td>\n",
       "      <td>1</td>\n",
       "      <td>0</td>\n",
       "      <td>0</td>\n",
       "      <td>0</td>\n",
       "      <td>0</td>\n",
       "      <td>0</td>\n",
       "      <td>0</td>\n",
       "      <td>0</td>\n",
       "      <td>0</td>\n",
       "    </tr>\n",
       "    <tr>\n",
       "      <th>4</th>\n",
       "      <td>31758</td>\n",
       "      <td>Kizumonogatari III: Reiketsu-hen</td>\n",
       "      <td>['Action', 'Mystery', 'Supernatural', 'Vampire']</td>\n",
       "      <td>Jan 6, 2017</td>\n",
       "      <td>22.0</td>\n",
       "      <td>8.83</td>\n",
       "      <td>1</td>\n",
       "      <td>0</td>\n",
       "      <td>0</td>\n",
       "      <td>0</td>\n",
       "      <td>...</td>\n",
       "      <td>0</td>\n",
       "      <td>0</td>\n",
       "      <td>0</td>\n",
       "      <td>0</td>\n",
       "      <td>0</td>\n",
       "      <td>0</td>\n",
       "      <td>0</td>\n",
       "      <td>1</td>\n",
       "      <td>0</td>\n",
       "      <td>1</td>\n",
       "    </tr>\n",
       "  </tbody>\n",
       "</table>\n",
       "<p>5 rows × 46 columns</p>\n",
       "</div>"
      ],
      "text/plain": [
       "     uid                             title  \\\n",
       "0  28891           Haikyuu!! Second Season   \n",
       "1  23273           Shigatsu wa Kimi no Uso   \n",
       "2  34599                     Made in Abyss   \n",
       "3   5114  Fullmetal Alchemist: Brotherhood   \n",
       "4  31758  Kizumonogatari III: Reiketsu-hen   \n",
       "\n",
       "                                               genre  \\\n",
       "0  ['Comedy', 'Sports', 'Drama', 'School', 'Shoun...   \n",
       "1  ['Drama', 'Music', 'Romance', 'School', 'Shoun...   \n",
       "2  ['Sci-Fi', 'Adventure', 'Mystery', 'Drama', 'F...   \n",
       "3  ['Action', 'Military', 'Adventure', 'Comedy', ...   \n",
       "4   ['Action', 'Mystery', 'Supernatural', 'Vampire']   \n",
       "\n",
       "                          aired  ranked  score  Action  Adventure  Cars  \\\n",
       "0   Oct 4, 2015 to Mar 27, 2016    25.0   8.82       0          0     0   \n",
       "1  Oct 10, 2014 to Mar 20, 2015    24.0   8.83       0          0     0   \n",
       "2   Jul 7, 2017 to Sep 29, 2017    23.0   8.83       0          1     0   \n",
       "3    Apr 5, 2009 to Jul 4, 2010     1.0   9.23       1          1     0   \n",
       "4                   Jan 6, 2017    22.0   8.83       1          0     0   \n",
       "\n",
       "   Comedy  ...  Shoujo Ai  Shounen  Shounen Ai  Slice of Life  Space  Sports  \\\n",
       "0       1  ...          0        1           0              0      0       1   \n",
       "1       0  ...          0        1           0              0      0       0   \n",
       "2       0  ...          0        0           0              0      0       0   \n",
       "3       1  ...          0        1           0              0      0       0   \n",
       "4       0  ...          0        0           0              0      0       0   \n",
       "\n",
       "   Super Power  Supernatural  Thriller  Vampire  \n",
       "0            0             0         0        0  \n",
       "1            0             0         0        0  \n",
       "2            0             0         0        0  \n",
       "3            0             0         0        0  \n",
       "4            0             1         0        1  \n",
       "\n",
       "[5 rows x 46 columns]"
      ]
     },
     "execution_count": 17,
     "metadata": {},
     "output_type": "execute_result"
    }
   ],
   "source": [
    "animes_df.head()"
   ]
  },
  {
   "cell_type": "markdown",
   "id": "b7254a6c",
   "metadata": {},
   "source": [
    "Step 4: I followed the same process as above and extracted the decades that these shows aired and created a column for each decade. 1 will indicated that the show is from that decade, otherwise 0. I only want the year when it first aired and not the end year."
   ]
  },
  {
   "cell_type": "code",
   "execution_count": 18,
   "id": "85794a11",
   "metadata": {},
   "outputs": [
    {
     "data": {
      "text/plain": [
       "'Oct 4, 2015 to Mar 27, 2016'"
      ]
     },
     "execution_count": 18,
     "metadata": {},
     "output_type": "execute_result"
    }
   ],
   "source": [
    "# get format of 'aired' column\n",
    "animes_df.iloc[0]['aired']"
   ]
  },
  {
   "cell_type": "code",
   "execution_count": 19,
   "id": "d0826f50",
   "metadata": {
    "scrolled": true
   },
   "outputs": [
    {
     "data": {
      "text/plain": [
       "Not available                   133\n",
       "2005                             55\n",
       "2004                             45\n",
       "2008                             42\n",
       "2003                             42\n",
       "                               ... \n",
       "Aug 8, 2013 to Aug 22, 2013       1\n",
       "Sep 21, 1985                      1\n",
       "Aug 22, 2001                      1\n",
       "Aug 26, 2011                      1\n",
       "Sep 27, 2011 to Dec 25, 2011      1\n",
       "Name: aired, Length: 10038, dtype: int64"
      ]
     },
     "execution_count": 19,
     "metadata": {},
     "output_type": "execute_result"
    }
   ],
   "source": [
    "# check to see if they are all like the format above\n",
    "animes_df['aired'].value_counts()"
   ]
  },
  {
   "cell_type": "markdown",
   "id": "abb1556d",
   "metadata": {},
   "source": [
    "The format of the 'aired' column changes from show to show so it'll be difficult to tell what the earliest air date is. I refined the function below after many errors to handle all of the formats. I grouped together everything that is Pre 1970's for my own sanity."
   ]
  },
  {
   "cell_type": "code",
   "execution_count": 20,
   "id": "04c5ea69",
   "metadata": {},
   "outputs": [],
   "source": [
    "def split_anime_decade(val, decade):\n",
    "    '''\n",
    "    INPUT:\n",
    "    val the 'aired' column value for a row\n",
    "    decade - one of the values from the (list) decade list \n",
    "             below this cell\n",
    "    \n",
    "    OUTPUT:\n",
    "    1 - if show in decade\n",
    "    0 - if show not in decade\n",
    "    '''\n",
    "    # extract year from 'aired' column\n",
    "    try:\n",
    "        year = val.split(',')[1]\n",
    "        year = year.strip()[:4]\n",
    "    except:\n",
    "        year = val.strip()[:4]\n",
    "    \n",
    "    # decide wether show belongs to decade\n",
    "    try:\n",
    "        if decade == 'Pre 1970':\n",
    "            if int(year) < 1970:\n",
    "                return 1\n",
    "            return 0\n",
    "        if int(year) >= int(decade) and int(year) < int(decade) + 10:\n",
    "            return 1\n",
    "        else:\n",
    "            return 0\n",
    "    except:\n",
    "        return 0"
   ]
  },
  {
   "cell_type": "markdown",
   "id": "56be0660",
   "metadata": {},
   "source": [
    "Note: I purposfully grouped everything before the 1970's into one 'decade'. Each decade of anime brings with it a similar animation art style and type of storytelling. With the format of the 'aired' column being different throughout the dataframe, I couldn't tell what was the earliest date. So I decided to separate the decades as follows."
   ]
  },
  {
   "cell_type": "code",
   "execution_count": 21,
   "id": "e7de513f",
   "metadata": {
    "scrolled": true
   },
   "outputs": [
    {
     "data": {
      "text/html": [
       "<div>\n",
       "<style scoped>\n",
       "    .dataframe tbody tr th:only-of-type {\n",
       "        vertical-align: middle;\n",
       "    }\n",
       "\n",
       "    .dataframe tbody tr th {\n",
       "        vertical-align: top;\n",
       "    }\n",
       "\n",
       "    .dataframe thead th {\n",
       "        text-align: right;\n",
       "    }\n",
       "</style>\n",
       "<table border=\"1\" class=\"dataframe\">\n",
       "  <thead>\n",
       "    <tr style=\"text-align: right;\">\n",
       "      <th></th>\n",
       "      <th>uid</th>\n",
       "      <th>title</th>\n",
       "      <th>genre</th>\n",
       "      <th>aired</th>\n",
       "      <th>ranked</th>\n",
       "      <th>score</th>\n",
       "      <th>Action</th>\n",
       "      <th>Adventure</th>\n",
       "      <th>Cars</th>\n",
       "      <th>Comedy</th>\n",
       "      <th>...</th>\n",
       "      <th>Super Power</th>\n",
       "      <th>Supernatural</th>\n",
       "      <th>Thriller</th>\n",
       "      <th>Vampire</th>\n",
       "      <th>Pre 1970s</th>\n",
       "      <th>1970s</th>\n",
       "      <th>1980s</th>\n",
       "      <th>1990s</th>\n",
       "      <th>2000s</th>\n",
       "      <th>2010s</th>\n",
       "    </tr>\n",
       "  </thead>\n",
       "  <tbody>\n",
       "    <tr>\n",
       "      <th>0</th>\n",
       "      <td>28891</td>\n",
       "      <td>Haikyuu!! Second Season</td>\n",
       "      <td>['Comedy', 'Sports', 'Drama', 'School', 'Shoun...</td>\n",
       "      <td>Oct 4, 2015 to Mar 27, 2016</td>\n",
       "      <td>25.0</td>\n",
       "      <td>8.82</td>\n",
       "      <td>0</td>\n",
       "      <td>0</td>\n",
       "      <td>0</td>\n",
       "      <td>1</td>\n",
       "      <td>...</td>\n",
       "      <td>0</td>\n",
       "      <td>0</td>\n",
       "      <td>0</td>\n",
       "      <td>0</td>\n",
       "      <td>0</td>\n",
       "      <td>0</td>\n",
       "      <td>0</td>\n",
       "      <td>0</td>\n",
       "      <td>0</td>\n",
       "      <td>1</td>\n",
       "    </tr>\n",
       "    <tr>\n",
       "      <th>1</th>\n",
       "      <td>23273</td>\n",
       "      <td>Shigatsu wa Kimi no Uso</td>\n",
       "      <td>['Drama', 'Music', 'Romance', 'School', 'Shoun...</td>\n",
       "      <td>Oct 10, 2014 to Mar 20, 2015</td>\n",
       "      <td>24.0</td>\n",
       "      <td>8.83</td>\n",
       "      <td>0</td>\n",
       "      <td>0</td>\n",
       "      <td>0</td>\n",
       "      <td>0</td>\n",
       "      <td>...</td>\n",
       "      <td>0</td>\n",
       "      <td>0</td>\n",
       "      <td>0</td>\n",
       "      <td>0</td>\n",
       "      <td>0</td>\n",
       "      <td>0</td>\n",
       "      <td>0</td>\n",
       "      <td>0</td>\n",
       "      <td>0</td>\n",
       "      <td>1</td>\n",
       "    </tr>\n",
       "    <tr>\n",
       "      <th>2</th>\n",
       "      <td>34599</td>\n",
       "      <td>Made in Abyss</td>\n",
       "      <td>['Sci-Fi', 'Adventure', 'Mystery', 'Drama', 'F...</td>\n",
       "      <td>Jul 7, 2017 to Sep 29, 2017</td>\n",
       "      <td>23.0</td>\n",
       "      <td>8.83</td>\n",
       "      <td>0</td>\n",
       "      <td>1</td>\n",
       "      <td>0</td>\n",
       "      <td>0</td>\n",
       "      <td>...</td>\n",
       "      <td>0</td>\n",
       "      <td>0</td>\n",
       "      <td>0</td>\n",
       "      <td>0</td>\n",
       "      <td>0</td>\n",
       "      <td>0</td>\n",
       "      <td>0</td>\n",
       "      <td>0</td>\n",
       "      <td>0</td>\n",
       "      <td>1</td>\n",
       "    </tr>\n",
       "    <tr>\n",
       "      <th>3</th>\n",
       "      <td>5114</td>\n",
       "      <td>Fullmetal Alchemist: Brotherhood</td>\n",
       "      <td>['Action', 'Military', 'Adventure', 'Comedy', ...</td>\n",
       "      <td>Apr 5, 2009 to Jul 4, 2010</td>\n",
       "      <td>1.0</td>\n",
       "      <td>9.23</td>\n",
       "      <td>1</td>\n",
       "      <td>1</td>\n",
       "      <td>0</td>\n",
       "      <td>1</td>\n",
       "      <td>...</td>\n",
       "      <td>0</td>\n",
       "      <td>0</td>\n",
       "      <td>0</td>\n",
       "      <td>0</td>\n",
       "      <td>0</td>\n",
       "      <td>0</td>\n",
       "      <td>0</td>\n",
       "      <td>0</td>\n",
       "      <td>1</td>\n",
       "      <td>0</td>\n",
       "    </tr>\n",
       "    <tr>\n",
       "      <th>4</th>\n",
       "      <td>31758</td>\n",
       "      <td>Kizumonogatari III: Reiketsu-hen</td>\n",
       "      <td>['Action', 'Mystery', 'Supernatural', 'Vampire']</td>\n",
       "      <td>Jan 6, 2017</td>\n",
       "      <td>22.0</td>\n",
       "      <td>8.83</td>\n",
       "      <td>1</td>\n",
       "      <td>0</td>\n",
       "      <td>0</td>\n",
       "      <td>0</td>\n",
       "      <td>...</td>\n",
       "      <td>0</td>\n",
       "      <td>1</td>\n",
       "      <td>0</td>\n",
       "      <td>1</td>\n",
       "      <td>0</td>\n",
       "      <td>0</td>\n",
       "      <td>0</td>\n",
       "      <td>0</td>\n",
       "      <td>0</td>\n",
       "      <td>1</td>\n",
       "    </tr>\n",
       "  </tbody>\n",
       "</table>\n",
       "<p>5 rows × 52 columns</p>\n",
       "</div>"
      ],
      "text/plain": [
       "     uid                             title  \\\n",
       "0  28891           Haikyuu!! Second Season   \n",
       "1  23273           Shigatsu wa Kimi no Uso   \n",
       "2  34599                     Made in Abyss   \n",
       "3   5114  Fullmetal Alchemist: Brotherhood   \n",
       "4  31758  Kizumonogatari III: Reiketsu-hen   \n",
       "\n",
       "                                               genre  \\\n",
       "0  ['Comedy', 'Sports', 'Drama', 'School', 'Shoun...   \n",
       "1  ['Drama', 'Music', 'Romance', 'School', 'Shoun...   \n",
       "2  ['Sci-Fi', 'Adventure', 'Mystery', 'Drama', 'F...   \n",
       "3  ['Action', 'Military', 'Adventure', 'Comedy', ...   \n",
       "4   ['Action', 'Mystery', 'Supernatural', 'Vampire']   \n",
       "\n",
       "                          aired  ranked  score  Action  Adventure  Cars  \\\n",
       "0   Oct 4, 2015 to Mar 27, 2016    25.0   8.82       0          0     0   \n",
       "1  Oct 10, 2014 to Mar 20, 2015    24.0   8.83       0          0     0   \n",
       "2   Jul 7, 2017 to Sep 29, 2017    23.0   8.83       0          1     0   \n",
       "3    Apr 5, 2009 to Jul 4, 2010     1.0   9.23       1          1     0   \n",
       "4                   Jan 6, 2017    22.0   8.83       1          0     0   \n",
       "\n",
       "   Comedy  ...  Super Power  Supernatural  Thriller  Vampire  Pre 1970s  \\\n",
       "0       1  ...            0             0         0        0          0   \n",
       "1       0  ...            0             0         0        0          0   \n",
       "2       0  ...            0             0         0        0          0   \n",
       "3       1  ...            0             0         0        0          0   \n",
       "4       0  ...            0             1         0        1          0   \n",
       "\n",
       "   1970s  1980s  1990s  2000s  2010s  \n",
       "0      0      0      0      0      1  \n",
       "1      0      0      0      0      1  \n",
       "2      0      0      0      0      1  \n",
       "3      0      0      0      1      0  \n",
       "4      0      0      0      0      1  \n",
       "\n",
       "[5 rows x 52 columns]"
      ]
     },
     "execution_count": 21,
     "metadata": {},
     "output_type": "execute_result"
    }
   ],
   "source": [
    "# valid decades\n",
    "decades = ['Pre 1970s', '1970s', '1980s', '1990s', '2000s', '2010s']\n",
    "\n",
    "# for every decade, find what shows belong to it\n",
    "for decade in decades:\n",
    "    column = []\n",
    "    for row in animes_df['aired']:\n",
    "        column.append(split_anime_decade(row, decade[:-1]))\n",
    "    animes_df[decade] = column\n",
    "    \n",
    "animes_df.head()"
   ]
  },
  {
   "cell_type": "markdown",
   "id": "2202ff15",
   "metadata": {},
   "source": [
    "Now that there is an easier way to identify what genre and decade a show belongs to, I no longer need the genre or aired column. They can be dropped."
   ]
  },
  {
   "cell_type": "code",
   "execution_count": 22,
   "id": "72c1a73b",
   "metadata": {
    "scrolled": true
   },
   "outputs": [
    {
     "data": {
      "text/html": [
       "<div>\n",
       "<style scoped>\n",
       "    .dataframe tbody tr th:only-of-type {\n",
       "        vertical-align: middle;\n",
       "    }\n",
       "\n",
       "    .dataframe tbody tr th {\n",
       "        vertical-align: top;\n",
       "    }\n",
       "\n",
       "    .dataframe thead th {\n",
       "        text-align: right;\n",
       "    }\n",
       "</style>\n",
       "<table border=\"1\" class=\"dataframe\">\n",
       "  <thead>\n",
       "    <tr style=\"text-align: right;\">\n",
       "      <th></th>\n",
       "      <th>uid</th>\n",
       "      <th>title</th>\n",
       "      <th>ranked</th>\n",
       "      <th>score</th>\n",
       "      <th>Action</th>\n",
       "      <th>Adventure</th>\n",
       "      <th>Cars</th>\n",
       "      <th>Comedy</th>\n",
       "      <th>Dementia</th>\n",
       "      <th>Demons</th>\n",
       "      <th>...</th>\n",
       "      <th>Super Power</th>\n",
       "      <th>Supernatural</th>\n",
       "      <th>Thriller</th>\n",
       "      <th>Vampire</th>\n",
       "      <th>Pre 1970s</th>\n",
       "      <th>1970s</th>\n",
       "      <th>1980s</th>\n",
       "      <th>1990s</th>\n",
       "      <th>2000s</th>\n",
       "      <th>2010s</th>\n",
       "    </tr>\n",
       "  </thead>\n",
       "  <tbody>\n",
       "    <tr>\n",
       "      <th>0</th>\n",
       "      <td>28891</td>\n",
       "      <td>Haikyuu!! Second Season</td>\n",
       "      <td>25.0</td>\n",
       "      <td>8.82</td>\n",
       "      <td>0</td>\n",
       "      <td>0</td>\n",
       "      <td>0</td>\n",
       "      <td>1</td>\n",
       "      <td>0</td>\n",
       "      <td>0</td>\n",
       "      <td>...</td>\n",
       "      <td>0</td>\n",
       "      <td>0</td>\n",
       "      <td>0</td>\n",
       "      <td>0</td>\n",
       "      <td>0</td>\n",
       "      <td>0</td>\n",
       "      <td>0</td>\n",
       "      <td>0</td>\n",
       "      <td>0</td>\n",
       "      <td>1</td>\n",
       "    </tr>\n",
       "    <tr>\n",
       "      <th>1</th>\n",
       "      <td>23273</td>\n",
       "      <td>Shigatsu wa Kimi no Uso</td>\n",
       "      <td>24.0</td>\n",
       "      <td>8.83</td>\n",
       "      <td>0</td>\n",
       "      <td>0</td>\n",
       "      <td>0</td>\n",
       "      <td>0</td>\n",
       "      <td>0</td>\n",
       "      <td>0</td>\n",
       "      <td>...</td>\n",
       "      <td>0</td>\n",
       "      <td>0</td>\n",
       "      <td>0</td>\n",
       "      <td>0</td>\n",
       "      <td>0</td>\n",
       "      <td>0</td>\n",
       "      <td>0</td>\n",
       "      <td>0</td>\n",
       "      <td>0</td>\n",
       "      <td>1</td>\n",
       "    </tr>\n",
       "    <tr>\n",
       "      <th>2</th>\n",
       "      <td>34599</td>\n",
       "      <td>Made in Abyss</td>\n",
       "      <td>23.0</td>\n",
       "      <td>8.83</td>\n",
       "      <td>0</td>\n",
       "      <td>1</td>\n",
       "      <td>0</td>\n",
       "      <td>0</td>\n",
       "      <td>0</td>\n",
       "      <td>0</td>\n",
       "      <td>...</td>\n",
       "      <td>0</td>\n",
       "      <td>0</td>\n",
       "      <td>0</td>\n",
       "      <td>0</td>\n",
       "      <td>0</td>\n",
       "      <td>0</td>\n",
       "      <td>0</td>\n",
       "      <td>0</td>\n",
       "      <td>0</td>\n",
       "      <td>1</td>\n",
       "    </tr>\n",
       "    <tr>\n",
       "      <th>3</th>\n",
       "      <td>5114</td>\n",
       "      <td>Fullmetal Alchemist: Brotherhood</td>\n",
       "      <td>1.0</td>\n",
       "      <td>9.23</td>\n",
       "      <td>1</td>\n",
       "      <td>1</td>\n",
       "      <td>0</td>\n",
       "      <td>1</td>\n",
       "      <td>0</td>\n",
       "      <td>0</td>\n",
       "      <td>...</td>\n",
       "      <td>0</td>\n",
       "      <td>0</td>\n",
       "      <td>0</td>\n",
       "      <td>0</td>\n",
       "      <td>0</td>\n",
       "      <td>0</td>\n",
       "      <td>0</td>\n",
       "      <td>0</td>\n",
       "      <td>1</td>\n",
       "      <td>0</td>\n",
       "    </tr>\n",
       "    <tr>\n",
       "      <th>4</th>\n",
       "      <td>31758</td>\n",
       "      <td>Kizumonogatari III: Reiketsu-hen</td>\n",
       "      <td>22.0</td>\n",
       "      <td>8.83</td>\n",
       "      <td>1</td>\n",
       "      <td>0</td>\n",
       "      <td>0</td>\n",
       "      <td>0</td>\n",
       "      <td>0</td>\n",
       "      <td>0</td>\n",
       "      <td>...</td>\n",
       "      <td>0</td>\n",
       "      <td>1</td>\n",
       "      <td>0</td>\n",
       "      <td>1</td>\n",
       "      <td>0</td>\n",
       "      <td>0</td>\n",
       "      <td>0</td>\n",
       "      <td>0</td>\n",
       "      <td>0</td>\n",
       "      <td>1</td>\n",
       "    </tr>\n",
       "  </tbody>\n",
       "</table>\n",
       "<p>5 rows × 50 columns</p>\n",
       "</div>"
      ],
      "text/plain": [
       "     uid                             title  ranked  score  Action  Adventure  \\\n",
       "0  28891           Haikyuu!! Second Season    25.0   8.82       0          0   \n",
       "1  23273           Shigatsu wa Kimi no Uso    24.0   8.83       0          0   \n",
       "2  34599                     Made in Abyss    23.0   8.83       0          1   \n",
       "3   5114  Fullmetal Alchemist: Brotherhood     1.0   9.23       1          1   \n",
       "4  31758  Kizumonogatari III: Reiketsu-hen    22.0   8.83       1          0   \n",
       "\n",
       "   Cars  Comedy  Dementia  Demons  ...  Super Power  Supernatural  Thriller  \\\n",
       "0     0       1         0       0  ...            0             0         0   \n",
       "1     0       0         0       0  ...            0             0         0   \n",
       "2     0       0         0       0  ...            0             0         0   \n",
       "3     0       1         0       0  ...            0             0         0   \n",
       "4     0       0         0       0  ...            0             1         0   \n",
       "\n",
       "   Vampire  Pre 1970s  1970s  1980s  1990s  2000s  2010s  \n",
       "0        0          0      0      0      0      0      1  \n",
       "1        0          0      0      0      0      0      1  \n",
       "2        0          0      0      0      0      0      1  \n",
       "3        0          0      0      0      0      1      0  \n",
       "4        1          0      0      0      0      0      1  \n",
       "\n",
       "[5 rows x 50 columns]"
      ]
     },
     "execution_count": 22,
     "metadata": {},
     "output_type": "execute_result"
    }
   ],
   "source": [
    "animes_df = animes_df.drop(['genre', 'aired'], axis=1)\n",
    "animes_df.head()"
   ]
  },
  {
   "cell_type": "code",
   "execution_count": null,
   "id": "aa5dfebe",
   "metadata": {},
   "outputs": [],
   "source": []
  },
  {
   "cell_type": "markdown",
   "id": "07e73ffc",
   "metadata": {},
   "source": [
    "## Data Visualizations"
   ]
  },
  {
   "cell_type": "code",
   "execution_count": 23,
   "id": "af4c795a",
   "metadata": {
    "scrolled": false
   },
   "outputs": [
    {
     "data": {
      "text/html": [
       "<div>\n",
       "<style scoped>\n",
       "    .dataframe tbody tr th:only-of-type {\n",
       "        vertical-align: middle;\n",
       "    }\n",
       "\n",
       "    .dataframe tbody tr th {\n",
       "        vertical-align: top;\n",
       "    }\n",
       "\n",
       "    .dataframe thead th {\n",
       "        text-align: right;\n",
       "    }\n",
       "</style>\n",
       "<table border=\"1\" class=\"dataframe\">\n",
       "  <thead>\n",
       "    <tr style=\"text-align: right;\">\n",
       "      <th></th>\n",
       "      <th>uid</th>\n",
       "      <th>title</th>\n",
       "      <th>ranked</th>\n",
       "      <th>score</th>\n",
       "      <th>Action</th>\n",
       "      <th>Adventure</th>\n",
       "      <th>Cars</th>\n",
       "      <th>Comedy</th>\n",
       "      <th>Dementia</th>\n",
       "      <th>Demons</th>\n",
       "      <th>...</th>\n",
       "      <th>Super Power</th>\n",
       "      <th>Supernatural</th>\n",
       "      <th>Thriller</th>\n",
       "      <th>Vampire</th>\n",
       "      <th>Pre 1970s</th>\n",
       "      <th>1970s</th>\n",
       "      <th>1980s</th>\n",
       "      <th>1990s</th>\n",
       "      <th>2000s</th>\n",
       "      <th>2010s</th>\n",
       "    </tr>\n",
       "  </thead>\n",
       "  <tbody>\n",
       "    <tr>\n",
       "      <th>3</th>\n",
       "      <td>5114</td>\n",
       "      <td>Fullmetal Alchemist: Brotherhood</td>\n",
       "      <td>1.0</td>\n",
       "      <td>9.23</td>\n",
       "      <td>1</td>\n",
       "      <td>1</td>\n",
       "      <td>0</td>\n",
       "      <td>1</td>\n",
       "      <td>0</td>\n",
       "      <td>0</td>\n",
       "      <td>...</td>\n",
       "      <td>0</td>\n",
       "      <td>0</td>\n",
       "      <td>0</td>\n",
       "      <td>0</td>\n",
       "      <td>0</td>\n",
       "      <td>0</td>\n",
       "      <td>0</td>\n",
       "      <td>0</td>\n",
       "      <td>1</td>\n",
       "      <td>0</td>\n",
       "    </tr>\n",
       "    <tr>\n",
       "      <th>773</th>\n",
       "      <td>9253</td>\n",
       "      <td>Steins;Gate</td>\n",
       "      <td>2.0</td>\n",
       "      <td>9.11</td>\n",
       "      <td>0</td>\n",
       "      <td>0</td>\n",
       "      <td>0</td>\n",
       "      <td>0</td>\n",
       "      <td>0</td>\n",
       "      <td>0</td>\n",
       "      <td>...</td>\n",
       "      <td>0</td>\n",
       "      <td>0</td>\n",
       "      <td>1</td>\n",
       "      <td>0</td>\n",
       "      <td>0</td>\n",
       "      <td>0</td>\n",
       "      <td>0</td>\n",
       "      <td>0</td>\n",
       "      <td>0</td>\n",
       "      <td>1</td>\n",
       "    </tr>\n",
       "    <tr>\n",
       "      <th>772</th>\n",
       "      <td>11061</td>\n",
       "      <td>Hunter x Hunter (2011)</td>\n",
       "      <td>3.0</td>\n",
       "      <td>9.11</td>\n",
       "      <td>1</td>\n",
       "      <td>1</td>\n",
       "      <td>0</td>\n",
       "      <td>0</td>\n",
       "      <td>0</td>\n",
       "      <td>0</td>\n",
       "      <td>...</td>\n",
       "      <td>1</td>\n",
       "      <td>0</td>\n",
       "      <td>0</td>\n",
       "      <td>0</td>\n",
       "      <td>0</td>\n",
       "      <td>0</td>\n",
       "      <td>0</td>\n",
       "      <td>0</td>\n",
       "      <td>0</td>\n",
       "      <td>1</td>\n",
       "    </tr>\n",
       "    <tr>\n",
       "      <th>771</th>\n",
       "      <td>32281</td>\n",
       "      <td>Kimi no Na wa.</td>\n",
       "      <td>4.0</td>\n",
       "      <td>9.09</td>\n",
       "      <td>0</td>\n",
       "      <td>0</td>\n",
       "      <td>0</td>\n",
       "      <td>0</td>\n",
       "      <td>0</td>\n",
       "      <td>0</td>\n",
       "      <td>...</td>\n",
       "      <td>0</td>\n",
       "      <td>1</td>\n",
       "      <td>0</td>\n",
       "      <td>0</td>\n",
       "      <td>0</td>\n",
       "      <td>0</td>\n",
       "      <td>0</td>\n",
       "      <td>0</td>\n",
       "      <td>0</td>\n",
       "      <td>1</td>\n",
       "    </tr>\n",
       "    <tr>\n",
       "      <th>770</th>\n",
       "      <td>38524</td>\n",
       "      <td>Shingeki no Kyojin Season 3 Part 2</td>\n",
       "      <td>5.0</td>\n",
       "      <td>9.07</td>\n",
       "      <td>1</td>\n",
       "      <td>0</td>\n",
       "      <td>0</td>\n",
       "      <td>0</td>\n",
       "      <td>0</td>\n",
       "      <td>0</td>\n",
       "      <td>...</td>\n",
       "      <td>1</td>\n",
       "      <td>0</td>\n",
       "      <td>0</td>\n",
       "      <td>0</td>\n",
       "      <td>0</td>\n",
       "      <td>0</td>\n",
       "      <td>0</td>\n",
       "      <td>0</td>\n",
       "      <td>0</td>\n",
       "      <td>1</td>\n",
       "    </tr>\n",
       "  </tbody>\n",
       "</table>\n",
       "<p>5 rows × 50 columns</p>\n",
       "</div>"
      ],
      "text/plain": [
       "       uid                               title  ranked  score  Action  \\\n",
       "3     5114    Fullmetal Alchemist: Brotherhood     1.0   9.23       1   \n",
       "773   9253                         Steins;Gate     2.0   9.11       0   \n",
       "772  11061              Hunter x Hunter (2011)     3.0   9.11       1   \n",
       "771  32281                      Kimi no Na wa.     4.0   9.09       0   \n",
       "770  38524  Shingeki no Kyojin Season 3 Part 2     5.0   9.07       1   \n",
       "\n",
       "     Adventure  Cars  Comedy  Dementia  Demons  ...  Super Power  \\\n",
       "3            1     0       1         0       0  ...            0   \n",
       "773          0     0       0         0       0  ...            0   \n",
       "772          1     0       0         0       0  ...            1   \n",
       "771          0     0       0         0       0  ...            0   \n",
       "770          0     0       0         0       0  ...            1   \n",
       "\n",
       "     Supernatural  Thriller  Vampire  Pre 1970s  1970s  1980s  1990s  2000s  \\\n",
       "3               0         0        0          0      0      0      0      1   \n",
       "773             0         1        0          0      0      0      0      0   \n",
       "772             0         0        0          0      0      0      0      0   \n",
       "771             1         0        0          0      0      0      0      0   \n",
       "770             0         0        0          0      0      0      0      0   \n",
       "\n",
       "     2010s  \n",
       "3        0  \n",
       "773      1  \n",
       "772      1  \n",
       "771      1  \n",
       "770      1  \n",
       "\n",
       "[5 rows x 50 columns]"
      ]
     },
     "execution_count": 23,
     "metadata": {},
     "output_type": "execute_result"
    }
   ],
   "source": [
    "animes_df = animes_df.sort_values(by='ranked', ascending=True)\n",
    "animes_df.head()"
   ]
  },
  {
   "cell_type": "code",
   "execution_count": 24,
   "id": "2b161480",
   "metadata": {},
   "outputs": [
    {
     "data": {
      "text/plain": [
       "(100, 34)"
      ]
     },
     "execution_count": 24,
     "metadata": {},
     "output_type": "execute_result"
    }
   ],
   "source": [
    "# grab top 100 rated shows\n",
    "top_100 = animes_df.head(100)\n",
    "\n",
    "# only get genre columns\n",
    "top_100 = top_100.iloc[:,4:-6]\n",
    "\n",
    "# get rid of any columns that have no values\n",
    "top_100 = top_100.loc[:, top_100.sum(axis=0) > 0]\n",
    "top_100.shape"
   ]
  },
  {
   "cell_type": "code",
   "execution_count": 25,
   "id": "a50b7ca4",
   "metadata": {},
   "outputs": [
    {
     "data": {
      "image/png": "[encoded data removed]",
      "text/plain": [
       "<Figure size 1152x648 with 1 Axes>"
      ]
     },
     "metadata": {
      "needs_background": "light"
     },
     "output_type": "display_data"
    }
   ],
   "source": [
    "# get total num of shows that are in\n",
    "# each genre (for top 100 shows)\n",
    "top_sums = []\n",
    "for genre in top_100.columns:\n",
    "    top_sums.append(top_100[genre].sum())\n",
    "    \n",
    "fig, ax = plt.subplots(figsize =(16, 9))\n",
    "\n",
    "plt.xlabel('Num of shows in genre.')\n",
    "top_list = list(top_100.columns)\n",
    "\n",
    "plt.ylabel('Genre')\n",
    "ax.barh(top_list, top_sums)\n",
    "\n",
    "plt.title('Distribution of genres in top 100 animes')\n",
    "\n",
    "plt.show()"
   ]
  },
  {
   "cell_type": "code",
   "execution_count": 26,
   "id": "bc6507e6",
   "metadata": {
    "scrolled": false
   },
   "outputs": [],
   "source": [
    "# get total num of shows in\n",
    "# each genre (for all shows)\n",
    "genre_sums = []\n",
    "genre_df = animes_df.iloc[:,4:-6]\n",
    "for genre in genre_df.columns:\n",
    "    genre_sums.append(genre_df[genre].sum())"
   ]
  },
  {
   "cell_type": "code",
   "execution_count": 27,
   "id": "a6687286",
   "metadata": {},
   "outputs": [
    {
     "data": {
      "image/png": "[encoded data removed]",
      "text/plain": [
       "<Figure size 1152x648 with 1 Axes>"
      ]
     },
     "metadata": {
      "needs_background": "light"
     },
     "output_type": "display_data"
    }
   ],
   "source": [
    "fig, ax = plt.subplots(figsize =(16, 9))\n",
    "\n",
    "plt.xlabel('Num of shows in genre')\n",
    "genre_list = list(genre_df.columns)\n",
    "\n",
    "plt.ylabel('Genre')\n",
    "ax.barh(genre_list, genre_sums)\n",
    "plt.title('Distribution of genres')\n",
    "plt.show()"
   ]
  },
  {
   "cell_type": "code",
   "execution_count": 28,
   "id": "5f47f811",
   "metadata": {
    "scrolled": true
   },
   "outputs": [],
   "source": [
    "# get total num of shows in each decade\n",
    "decades_sum = []\n",
    "decades_df = animes_df.iloc[:,-6:]\n",
    "for decade in decades_df.columns:\n",
    "    decades_sum.append(decades_df[decade].sum())"
   ]
  },
  {
   "cell_type": "code",
   "execution_count": 29,
   "id": "72bf9ae1",
   "metadata": {
    "scrolled": true
   },
   "outputs": [
    {
     "data": {
      "image/png": "[encoded data removed]",
      "text/plain": [
       "<Figure size 432x288 with 1 Axes>"
      ]
     },
     "metadata": {
      "needs_background": "light"
     },
     "output_type": "display_data"
    }
   ],
   "source": [
    "fig = plt.figure()\n",
    "ax = fig.add_axes([0,0,1,1])\n",
    "\n",
    "plt.xlabel('Num of shows in decade')\n",
    "decades_list = list(decades_df.columns)\n",
    "\n",
    "plt.ylabel('Decade')\n",
    "ax.barh(decades_list, decades_sum)\n",
    "plt.title('Distribution of shows in each decade')\n",
    "plt.show()"
   ]
  },
  {
   "cell_type": "markdown",
   "id": "81c4be97",
   "metadata": {},
   "source": [
    "## reviews.csv cleaning\n",
    "Steps to clean data:\n",
    "- Check for duplicate rows. If they exist, get rid of them.\n",
    "- Keep the three columns needed (profile, anime_uid, score). Get rid of the rest.\n",
    "- Check for null values in the ‘score’ column. If they exist, get rid of them."
   ]
  },
  {
   "cell_type": "code",
   "execution_count": 30,
   "id": "1e80b72b",
   "metadata": {
    "scrolled": true
   },
   "outputs": [
    {
     "data": {
      "text/html": [
       "<div>\n",
       "<style scoped>\n",
       "    .dataframe tbody tr th:only-of-type {\n",
       "        vertical-align: middle;\n",
       "    }\n",
       "\n",
       "    .dataframe tbody tr th {\n",
       "        vertical-align: top;\n",
       "    }\n",
       "\n",
       "    .dataframe thead th {\n",
       "        text-align: right;\n",
       "    }\n",
       "</style>\n",
       "<table border=\"1\" class=\"dataframe\">\n",
       "  <thead>\n",
       "    <tr style=\"text-align: right;\">\n",
       "      <th></th>\n",
       "      <th>uid</th>\n",
       "      <th>profile</th>\n",
       "      <th>anime_uid</th>\n",
       "      <th>text</th>\n",
       "      <th>score</th>\n",
       "      <th>scores</th>\n",
       "      <th>link</th>\n",
       "    </tr>\n",
       "  </thead>\n",
       "  <tbody>\n",
       "    <tr>\n",
       "      <th>0</th>\n",
       "      <td>255938</td>\n",
       "      <td>DesolatePsyche</td>\n",
       "      <td>34096</td>\n",
       "      <td>\\n           \\n         \\n           \\n       ...</td>\n",
       "      <td>8</td>\n",
       "      <td>{'Overall': '8', 'Story': '8', 'Animation': '8...</td>\n",
       "      <td>https://myanimelist.net/reviews.php?id=255938</td>\n",
       "    </tr>\n",
       "    <tr>\n",
       "      <th>1</th>\n",
       "      <td>259117</td>\n",
       "      <td>baekbeans</td>\n",
       "      <td>34599</td>\n",
       "      <td>\\n           \\n         \\n           \\n       ...</td>\n",
       "      <td>10</td>\n",
       "      <td>{'Overall': '10', 'Story': '10', 'Animation': ...</td>\n",
       "      <td>https://myanimelist.net/reviews.php?id=259117</td>\n",
       "    </tr>\n",
       "    <tr>\n",
       "      <th>2</th>\n",
       "      <td>253664</td>\n",
       "      <td>skrn</td>\n",
       "      <td>28891</td>\n",
       "      <td>\\n           \\n         \\n           \\n       ...</td>\n",
       "      <td>7</td>\n",
       "      <td>{'Overall': '7', 'Story': '7', 'Animation': '9...</td>\n",
       "      <td>https://myanimelist.net/reviews.php?id=253664</td>\n",
       "    </tr>\n",
       "    <tr>\n",
       "      <th>3</th>\n",
       "      <td>8254</td>\n",
       "      <td>edgewalker00</td>\n",
       "      <td>2904</td>\n",
       "      <td>\\n           \\n         \\n           \\n       ...</td>\n",
       "      <td>9</td>\n",
       "      <td>{'Overall': '9', 'Story': '9', 'Animation': '9...</td>\n",
       "      <td>https://myanimelist.net/reviews.php?id=8254</td>\n",
       "    </tr>\n",
       "    <tr>\n",
       "      <th>4</th>\n",
       "      <td>291149</td>\n",
       "      <td>aManOfCulture99</td>\n",
       "      <td>4181</td>\n",
       "      <td>\\n           \\n         \\n           \\n       ...</td>\n",
       "      <td>10</td>\n",
       "      <td>{'Overall': '10', 'Story': '10', 'Animation': ...</td>\n",
       "      <td>https://myanimelist.net/reviews.php?id=291149</td>\n",
       "    </tr>\n",
       "  </tbody>\n",
       "</table>\n",
       "</div>"
      ],
      "text/plain": [
       "      uid          profile  anime_uid  \\\n",
       "0  255938   DesolatePsyche      34096   \n",
       "1  259117        baekbeans      34599   \n",
       "2  253664             skrn      28891   \n",
       "3    8254     edgewalker00       2904   \n",
       "4  291149  aManOfCulture99       4181   \n",
       "\n",
       "                                                text  score  \\\n",
       "0  \\n           \\n         \\n           \\n       ...      8   \n",
       "1  \\n           \\n         \\n           \\n       ...     10   \n",
       "2  \\n           \\n         \\n           \\n       ...      7   \n",
       "3  \\n           \\n         \\n           \\n       ...      9   \n",
       "4  \\n           \\n         \\n           \\n       ...     10   \n",
       "\n",
       "                                              scores  \\\n",
       "0  {'Overall': '8', 'Story': '8', 'Animation': '8...   \n",
       "1  {'Overall': '10', 'Story': '10', 'Animation': ...   \n",
       "2  {'Overall': '7', 'Story': '7', 'Animation': '9...   \n",
       "3  {'Overall': '9', 'Story': '9', 'Animation': '9...   \n",
       "4  {'Overall': '10', 'Story': '10', 'Animation': ...   \n",
       "\n",
       "                                            link  \n",
       "0  https://myanimelist.net/reviews.php?id=255938  \n",
       "1  https://myanimelist.net/reviews.php?id=259117  \n",
       "2  https://myanimelist.net/reviews.php?id=253664  \n",
       "3    https://myanimelist.net/reviews.php?id=8254  \n",
       "4  https://myanimelist.net/reviews.php?id=291149  "
      ]
     },
     "execution_count": 30,
     "metadata": {},
     "output_type": "execute_result"
    }
   ],
   "source": [
    "reviews_df.head()"
   ]
  },
  {
   "cell_type": "code",
   "execution_count": 63,
   "id": "730a2ed0",
   "metadata": {
    "scrolled": true
   },
   "outputs": [
    {
     "data": {
      "text/plain": [
       "(192112, 7)"
      ]
     },
     "execution_count": 63,
     "metadata": {},
     "output_type": "execute_result"
    }
   ],
   "source": [
    "# check shape of data\n",
    "reviews_df.shape"
   ]
  },
  {
   "cell_type": "markdown",
   "id": "30c03f80",
   "metadata": {},
   "source": [
    "Step 1: Check for duplicate row. If they exist, get rid of them."
   ]
  },
  {
   "cell_type": "code",
   "execution_count": 141,
   "id": "1a3dbcf0",
   "metadata": {
    "scrolled": true
   },
   "outputs": [
    {
     "data": {
      "text/plain": [
       "61593"
      ]
     },
     "execution_count": 141,
     "metadata": {},
     "output_type": "execute_result"
    }
   ],
   "source": [
    "# check for duplicate rows\n",
    "reviews_df.duplicated().sum()"
   ]
  },
  {
   "cell_type": "code",
   "execution_count": 142,
   "id": "1fb11aee",
   "metadata": {},
   "outputs": [],
   "source": [
    "# drop duplicate rows\n",
    "reviews_df.drop_duplicates(inplace=True)"
   ]
  },
  {
   "cell_type": "code",
   "execution_count": 180,
   "id": "7d3f8ccc",
   "metadata": {
    "scrolled": true
   },
   "outputs": [
    {
     "data": {
      "text/plain": [
       "0"
      ]
     },
     "execution_count": 180,
     "metadata": {},
     "output_type": "execute_result"
    }
   ],
   "source": [
    "# check for duplicate rows\n",
    "reviews_df.duplicated().sum()"
   ]
  },
  {
   "cell_type": "markdown",
   "id": "02e7dea2",
   "metadata": {},
   "source": [
    "Step 2: Keep the three columns needed (profile, anime_uid, score). Get rid of the rest."
   ]
  },
  {
   "cell_type": "code",
   "execution_count": 144,
   "id": "76429454",
   "metadata": {},
   "outputs": [],
   "source": [
    "# grab the three needed columns\n",
    "reviews_df = reviews_df[['profile', 'anime_uid', 'score']]"
   ]
  },
  {
   "cell_type": "markdown",
   "id": "74beef5f",
   "metadata": {},
   "source": [
    "Step 3: Check for null values in the ‘score’ column. If they exist, get rid of them."
   ]
  },
  {
   "cell_type": "code",
   "execution_count": 68,
   "id": "618356a2",
   "metadata": {
    "scrolled": true
   },
   "outputs": [
    {
     "data": {
      "text/plain": [
       "profile      0\n",
       "anime_uid    0\n",
       "score        0\n",
       "dtype: int64"
      ]
     },
     "execution_count": 68,
     "metadata": {},
     "output_type": "execute_result"
    }
   ],
   "source": [
    "# check for any missing values\n",
    "reviews_df.isnull().sum()"
   ]
  },
  {
   "cell_type": "code",
   "execution_count": 69,
   "id": "2a4c4441",
   "metadata": {
    "scrolled": true
   },
   "outputs": [
    {
     "data": {
      "text/plain": [
       "8113"
      ]
     },
     "execution_count": 69,
     "metadata": {},
     "output_type": "execute_result"
    }
   ],
   "source": [
    "# check how many different animes were rated\n",
    "len(reviews_df['anime_uid'].unique())"
   ]
  },
  {
   "cell_type": "code",
   "execution_count": 70,
   "id": "579ae9c9",
   "metadata": {
    "scrolled": true
   },
   "outputs": [
    {
     "data": {
      "text/plain": [
       "(130519, 3)"
      ]
     },
     "execution_count": 70,
     "metadata": {},
     "output_type": "execute_result"
    }
   ],
   "source": [
    "# check how many reviews there were\n",
    "reviews_df.shape"
   ]
  },
  {
   "cell_type": "markdown",
   "id": "300ca872",
   "metadata": {},
   "source": [
    "# Implementation\n",
    "The implementation will be broken up into three parts. One for each kind of recommendation."
   ]
  },
  {
   "cell_type": "markdown",
   "id": "0b037660",
   "metadata": {},
   "source": [
    "## Section 1 - Knowledge Based Recommendations\n",
    "This is the simplest form of recommending content to users. Users will provide a genre or date that will act as a filter for our data. There are only 3 'filters' the users can sort by (rank, genre, date).\n",
    "Steps for section:\n",
    "- create get_top_ranked() function\n",
    "- create get_top_ranked_genre() function\n",
    "- create get_top_ranked_decade() function"
   ]
  },
  {
   "cell_type": "code",
   "execution_count": 40,
   "id": "1deb51e1",
   "metadata": {},
   "outputs": [],
   "source": [
    "def get_top_ranked(n, df=animes_df):\n",
    "    '''\n",
    "    INPUT:\n",
    "    df - animes df from cells above\n",
    "    n - number of recs to return\n",
    "    \n",
    "    OUTPUT:\n",
    "    recs -  the id, title, and rank of each recommendation\n",
    "    '''\n",
    "    recs = []\n",
    "    \n",
    "    # grab n recommendation\n",
    "    for i in range(n):\n",
    "        show = df.iloc[i]\n",
    "        \n",
    "        # only grab show info\n",
    "        recs.append((show.uid, show.title, show.ranked))\n",
    "                    \n",
    "    return recs"
   ]
  },
  {
   "cell_type": "code",
   "execution_count": 41,
   "id": "e3d1a9dd",
   "metadata": {
    "scrolled": true
   },
   "outputs": [
    {
     "data": {
      "text/plain": [
       "[(5114, 'Fullmetal Alchemist: Brotherhood', 1.0),\n",
       " (9253, 'Steins;Gate', 2.0),\n",
       " (11061, 'Hunter x Hunter (2011)', 3.0),\n",
       " (32281, 'Kimi no Na wa.', 4.0),\n",
       " (38524, 'Shingeki no Kyojin Season 3 Part 2', 5.0),\n",
       " (28977, 'Gintama°', 6.0),\n",
       " (9969, \"Gintama'\", 7.0),\n",
       " (820, 'Ginga Eiyuu Densetsu', 8.0),\n",
       " (35180, '3-gatsu no Lion 2nd Season', 9.0),\n",
       " (28851, 'Koe no Katachi', 10.0),\n",
       " (15417, \"Gintama': Enchousen\", 11.0),\n",
       " (4181, 'Clannad: After Story', 12.0),\n",
       " (918, 'Gintama', 13.0),\n",
       " (15335, 'Gintama Movie 2: Kanketsu-hen - Yorozuya yo Eien Nare', 14.0),\n",
       " (34096, 'Gintama.', 15.0),\n",
       " (32935, 'Haikyuu!!: Karasuno Koukou vs. Shiratorizawa Gakuen Koukou', 16.0),\n",
       " (2904, 'Code Geass: Hangyaku no Lelouch R2', 17.0),\n",
       " (35247, 'Owarimonogatari 2nd Season', 18.0),\n",
       " (38000, 'Kimetsu no Yaiba', 19.0),\n",
       " (199, 'Sen to Chihiro no Kamikakushi', 20.0),\n",
       " (37510, 'Mob Psycho 100 II', 21.0),\n",
       " (31758, 'Kizumonogatari III: Reiketsu-hen', 22.0),\n",
       " (34599, 'Made in Abyss', 23.0),\n",
       " (23273, 'Shigatsu wa Kimi no Uso', 24.0),\n",
       " (28891, 'Haikyuu!! Second Season', 25.0)]"
      ]
     },
     "execution_count": 41,
     "metadata": {},
     "output_type": "execute_result"
    }
   ],
   "source": [
    "get_top_ranked(25)"
   ]
  },
  {
   "cell_type": "markdown",
   "id": "08d79b2e",
   "metadata": {},
   "source": [
    "Next is filtering the shows by a specific genre and sorting by highest ranked."
   ]
  },
  {
   "cell_type": "code",
   "execution_count": 42,
   "id": "95e4fd24",
   "metadata": {},
   "outputs": [],
   "source": [
    "def get_top_ranked_genre(genre, n, df=animes_df):\n",
    "    '''\n",
    "    INPUT:\n",
    "    genre - a string containing the genre that will be filtered by\n",
    "    n - the number of recommendations to be returned\n",
    "    df - the animes df from above\n",
    "    \n",
    "    OUTPUT:\n",
    "    recs - a list of recommendations with title and url link\n",
    "    '''\n",
    "    \n",
    "    recs = []\n",
    "    # grab all shows that are in a specific genre\n",
    "    genre_df = df[df[genre] == 1]\n",
    "    max_len = len(genre_df['title']) - 1\n",
    "\n",
    "    for i in range(n):\n",
    "        if i > max_len:\n",
    "            break\n",
    "        show = genre_df.iloc[i]\n",
    "        \n",
    "        # only grab show info\n",
    "        recs.append((show.uid, show.title, show.ranked))\n",
    "    \n",
    "    return recs"
   ]
  },
  {
   "cell_type": "code",
   "execution_count": 43,
   "id": "a64b35d5",
   "metadata": {
    "scrolled": true
   },
   "outputs": [
    {
     "name": "stdout",
     "output_type": "stream",
     "text": [
      "(32281, 'Kimi no Na wa.', 4.0)\n",
      "(4181, 'Clannad: After Story', 12.0)\n",
      "(23273, 'Shigatsu wa Kimi no Uso', 24.0)\n",
      "(17074, 'Monogatari Series: Second Season', 33.0)\n",
      "(44, 'Rurouni Kenshin: Meiji Kenkaku Romantan - Tsuioku-hen', 35.0)\n",
      "(38329, 'Seishun Buta Yarou wa Yumemiru Shoujo no Yume wo Minai', 37.0)\n",
      "(431, 'Howl no Ugoku Shiro', 41.0)\n",
      "(7311, 'Suzumiya Haruhi no Shoushitsu', 51.0)\n",
      "(7785, 'Yojouhan Shinwa Taikei', 62.0)\n",
      "(12365, 'Bakuman. 3rd Season', 63.0)\n",
      "(4282, 'Kara no Kyoukai 5: Mujun Rasen', 72.0)\n",
      "(38826, 'Tenki no Ko', 80.0)\n",
      "(33674, 'No Game No Life: Zero', 93.0)\n",
      "(10408, 'Hotarubi no Mori e', 104.0)\n",
      "(33, 'Kenpuu Denki Berserk', 105.0)\n",
      "(5205, 'Kara no Kyoukai 7: Satsujin Kousatsu (Kou)', 114.0)\n",
      "(38889, 'Kono Oto Tomare! 2nd Season', 115.0)\n",
      "(877, 'Nana', 117.0)\n",
      "(5028, 'Major S5', 121.0)\n",
      "(10030, 'Bakuman. 2nd Season', 133.0)\n",
      "(5941, 'Cross Game', 134.0)\n",
      "(37450, 'Seishun Buta Yarou wa Bunny Girl Senpai no Yume wo Minai', 135.0)\n",
      "(37999, 'Kaguya-sama wa Kokurasetai: Tensai-tachi no Renai Zunousen', 136.0)\n",
      "(30709, 'Kamisama Hajimemashita: Kako-hen', 137.0)\n",
      "(5341, 'Ookami to Koushinryou II', 153.0)\n",
      "(6594, 'Katanagatari', 159.0)\n",
      "(12531, 'Sakamichi no Apollon', 165.0)\n",
      "(1698, 'Nodame Cantabile', 177.0)\n",
      "(45, 'Rurouni Kenshin: Meiji Kenkaku Romantan', 178.0)\n",
      "(513, 'Tenkuu no Shiro Laputa', 179.0)\n",
      "(1210, 'NHK ni Youkoso!', 182.0)\n",
      "(2685, 'Tsubasa: Tokyo Revelations', 186.0)\n",
      "(5081, 'Bakemonogatari', 189.0)\n",
      "(30346, 'Doukyuusei (Movie)', 192.0)\n",
      "(338, 'Versailles no Bara', 197.0)\n",
      "(38993, 'Karakai Jouzu no Takagi-san 2', 199.0)\n",
      "(4224, 'Toradora!', 204.0)\n",
      "(329, 'Planetes', 210.0)\n",
      "(38680, 'Fruits Basket 1st Season', 213.0)\n",
      "(2966, 'Ookami to Koushinryou', 218.0)\n",
      "(5690, 'Nodame Cantabile: Finale', 225.0)\n",
      "(1142, 'Hachimitsu to Clover II', 237.0)\n",
      "(18195, 'Little Busters!: Refrain', 241.0)\n",
      "(512, 'Majo no Takkyuubin', 242.0)\n",
      "(35466, 'ReLIFE: Kanketsu-hen', 243.0)\n",
      "(1033, 'Sennen Joyuu', 244.0)\n",
      "(7674, 'Bakuman.', 247.0)\n",
      "(372, 'Cardcaptor Sakura Movie 2: Fuuin Sareta Card', 248.0)\n",
      "(6811, 'InuYasha: Kanketsu-hen', 249.0)\n",
      "(853, 'Ouran Koukou Host Club', 253.0)\n",
      "(2236, 'Toki wo Kakeru Shoujo', 255.0)\n",
      "(23847, 'Yahari Ore no Seishun Love Comedy wa Machigatteiru. Zoku', 258.0)\n",
      "(34636, 'Ballroom e Youkoso', 259.0)\n",
      "(39570, 'High Score Girl II', 263.0)\n",
      "(585, 'Mimi wo Sumaseba', 265.0)\n",
      "(13759, 'Sakura-sou no Pet na Kanojo', 268.0)\n",
      "(34822, 'Tsuki ga Kirei', 269.0)\n",
      "(35628, 'Honoo no Alpenrose: Ai no Symphony Ongaku-hen', 274.0)\n",
      "(31715, 'Working!!!: Lord of the Takanashi', 293.0)\n",
      "(35608, 'Chuunibyou demo Koi ga Shitai! Movie: Take On Me', 299.0)\n",
      "(39533, 'Given', 302.0)\n",
      "(25681, 'Kamisama Hajimemashita◎', 305.0)\n",
      "(34537, 'Yoru wa Mijikashi Arukeyo Otome', 313.0)\n",
      "(232, 'Cardcaptor Sakura', 314.0)\n",
      "(4722, 'Skip Beat!', 321.0)\n",
      "(16782, 'Kotonoha no Niwa', 326.0)\n",
      "(4477, 'Nodame Cantabile: Paris-hen', 329.0)\n",
      "(38422, 'High Score Girl: Extra Stage', 335.0)\n",
      "(16662, 'Kaze Tachinu', 338.0)\n",
      "(16067, 'Nagi no Asu kara', 342.0)\n",
      "(4938, 'Tsubasa: Shunraiki', 350.0)\n",
      "(2167, 'Clannad', 365.0)\n",
      "(3701, 'Kaiba', 373.0)\n",
      "(16706, 'Kami nomi zo Shiru Sekai: Megami-hen', 374.0)\n",
      "(721, 'Princess Tutu', 380.0)\n",
      "(8425, 'Gosick', 387.0)\n",
      "(7054, 'Kaichou wa Maid-sama!', 392.0)\n",
      "(33323, 'Kamisama Hajimemashita: Kamisama, Shiawase ni Naru', 393.0)\n",
      "(33161, 'Yahari Ore no Seishun Love Comedy wa Machigatteiru. Zoku OVA', 400.0)\n",
      "(11123, 'Sekaiichi Hatsukoi 2', 408.0)\n",
      "(25013, 'Akatsuki no Yona', 409.0)\n",
      "(237, 'Koukyoushihen Eureka Seven', 414.0)\n",
      "(2034, 'Lovely★Complex', 415.0)\n",
      "(1914, 'Saiunkoku Monogatari 2nd Season', 417.0)\n",
      "(27663, 'Baby Steps 2nd Season', 421.0)\n",
      "(1486, 'Kodomo no Omocha (TV)', 428.0)\n",
      "(16, 'Hachimitsu to Clover', 436.0)\n",
      "(14713, 'Kamisama Hajimemashita', 437.0)\n",
      "(30015, 'ReLIFE', 447.0)\n",
      "(14813, 'Yahari Ore no Seishun Love Comedy wa Machigatteiru.', 453.0)\n",
      "(31173, 'Akagami no Shirayuki-hime 2nd Season', 455.0)\n",
      "(6045, 'Kimi ni Todoke', 458.0)\n",
      "(28725, 'Kokoro ga Sakebitagatterunda.', 459.0)\n",
      "(1453, 'Maison Ikkoku', 460.0)\n",
      "(25879, 'Working!!!', 464.0)\n",
      "(4789, 'ef: A Tale of Melodies.', 466.0)\n",
      "(23289, 'Gekkan Shoujo Nozaki-kun', 467.0)\n",
      "(9656, 'Kimi ni Todoke 2nd Season', 469.0)\n",
      "(16001, 'Kokoro Connect: Michi Random', 471.0)\n",
      "(81, 'Mobile Suit Gundam: The 08th MS Team', 473.0)\n"
     ]
    }
   ],
   "source": [
    "genre = 'Romance'\n",
    "# get top shows\n",
    "recs = get_top_ranked_genre(genre, 100)\n",
    "for show in recs:\n",
    "    print(show)"
   ]
  },
  {
   "cell_type": "markdown",
   "id": "257d8c4d",
   "metadata": {},
   "source": [
    "The last ranked based filter is by the decade of the show."
   ]
  },
  {
   "cell_type": "code",
   "execution_count": 44,
   "id": "55d3fccb",
   "metadata": {},
   "outputs": [],
   "source": [
    "def get_top_ranked_decade(decade, n, df=animes_df):\n",
    "    '''\n",
    "    INPUT:\n",
    "    decade - a string containing the decade that will be filtered by\n",
    "    n - the number of recommendations to be returned\n",
    "    df - the animes df from above\n",
    "    \n",
    "    OUTPUT:\n",
    "    recs - a list of recommendations with title and url link\n",
    "    '''\n",
    "    \n",
    "    recs = []\n",
    "    # grab all shows that are in a specific decade and sort by highest rank\n",
    "    decade_df = df[df[decade] == 1]\n",
    "    max_len = len(decade_df['title']) - 1\n",
    "\n",
    "    for i in range(n):\n",
    "        if i > max_len:\n",
    "            break\n",
    "        show = decade_df.iloc[i]\n",
    "\n",
    "        # only grab show info\n",
    "        recs.append((show.uid, show.title, show.ranked))\n",
    "    \n",
    "    return recs"
   ]
  },
  {
   "cell_type": "code",
   "execution_count": 45,
   "id": "42d78554",
   "metadata": {
    "scrolled": true
   },
   "outputs": [
    {
     "name": "stdout",
     "output_type": "stream",
     "text": [
      "(1, 'Cowboy Bebop', 26.0)\n",
      "(164, 'Mononoke Hime', 30.0)\n",
      "(44, 'Rurouni Kenshin: Meiji Kenkaku Romantan - Tsuioku-hen', 35.0)\n",
      "(245, 'Great Teacher Onizuka', 40.0)\n",
      "(21, 'One Piece', 86.0)\n",
      "(170, 'Slam Dunk', 87.0)\n",
      "(32, 'Neon Genesis Evangelion: The End of Evangelion', 92.0)\n",
      "(33, 'Kenpuu Denki Berserk', 105.0)\n",
      "(392, 'Yuu☆Yuu☆Hakusho', 113.0)\n",
      "(136, 'Hunter x Hunter', 119.0)\n",
      "(437, 'Perfect Blue', 164.0)\n",
      "(45, 'Rurouni Kenshin: Meiji Kenkaku Romantan', 178.0)\n",
      "(43, 'Koukaku Kidoutai', 206.0)\n",
      "(30, 'Neon Genesis Evangelion', 208.0)\n",
      "(185, 'Initial D First Stage', 232.0)\n",
      "(2559, 'Romeo no Aoi Sora', 254.0)\n",
      "(6, 'Trigun', 256.0)\n",
      "(585, 'Mimi wo Sumaseba', 265.0)\n",
      "(9175, 'Tsuruhime Ja!', 270.0)\n",
      "(235, 'Detective Conan (TV)', 295.0)\n"
     ]
    }
   ],
   "source": [
    "decade = '1990s'\n",
    "# get top 1990's animes\n",
    "decades = get_top_ranked_decade(decade, 20)\n",
    "for show in decades:\n",
    "    print(show)"
   ]
  },
  {
   "cell_type": "markdown",
   "id": "290e7b25",
   "metadata": {},
   "source": [
    "# Section 2 - Content Based Filtering\n",
    "Content based filtering requires finding similar shows. To find similar shows, a subset of the animes_df has to created of just the genres and decades (the attributes of the shows). The subset should be a matrix filled with 1's and 0's. The dot product of that subet with the TRANSPOSE of that subset will result in a similarity matrix. With the similarity matrix, finding similar shows is as easy as pandas matrix filtering."
   ]
  },
  {
   "cell_type": "code",
   "execution_count": 46,
   "id": "eaa273dd",
   "metadata": {},
   "outputs": [],
   "source": [
    "# get a subset of the animes df starting at the first genre column\n",
    "attributes_matrix = animes_df.iloc[:, 4:]\n",
    "\n",
    "# take the dot product of the show_attributes with the transpose of show_attributes\n",
    "similarity_matrix = attributes_matrix.dot(np.transpose(attributes_matrix))"
   ]
  },
  {
   "cell_type": "code",
   "execution_count": 47,
   "id": "431e378f",
   "metadata": {
    "scrolled": false
   },
   "outputs": [
    {
     "data": {
      "text/plain": [
       "(14563, 14563)"
      ]
     },
     "execution_count": 47,
     "metadata": {},
     "output_type": "execute_result"
    }
   ],
   "source": [
    "similarity_matrix.shape"
   ]
  },
  {
   "cell_type": "code",
   "execution_count": 48,
   "id": "1d7f24c8",
   "metadata": {},
   "outputs": [
    {
     "data": {
      "text/html": [
       "<div>\n",
       "<style scoped>\n",
       "    .dataframe tbody tr th:only-of-type {\n",
       "        vertical-align: middle;\n",
       "    }\n",
       "\n",
       "    .dataframe tbody tr th {\n",
       "        vertical-align: top;\n",
       "    }\n",
       "\n",
       "    .dataframe thead th {\n",
       "        text-align: right;\n",
       "    }\n",
       "</style>\n",
       "<table border=\"1\" class=\"dataframe\">\n",
       "  <thead>\n",
       "    <tr style=\"text-align: right;\">\n",
       "      <th></th>\n",
       "      <th>3</th>\n",
       "      <th>773</th>\n",
       "      <th>772</th>\n",
       "      <th>771</th>\n",
       "      <th>770</th>\n",
       "      <th>769</th>\n",
       "      <th>768</th>\n",
       "      <th>767</th>\n",
       "      <th>766</th>\n",
       "      <th>765</th>\n",
       "      <th>...</th>\n",
       "      <th>14335</th>\n",
       "      <th>14331</th>\n",
       "      <th>14330</th>\n",
       "      <th>14329</th>\n",
       "      <th>14328</th>\n",
       "      <th>14871</th>\n",
       "      <th>14870</th>\n",
       "      <th>14929</th>\n",
       "      <th>14869</th>\n",
       "      <th>14868</th>\n",
       "    </tr>\n",
       "  </thead>\n",
       "  <tbody>\n",
       "    <tr>\n",
       "      <th>3</th>\n",
       "      <td>9</td>\n",
       "      <td>0</td>\n",
       "      <td>4</td>\n",
       "      <td>1</td>\n",
       "      <td>5</td>\n",
       "      <td>3</td>\n",
       "      <td>3</td>\n",
       "      <td>2</td>\n",
       "      <td>1</td>\n",
       "      <td>2</td>\n",
       "      <td>...</td>\n",
       "      <td>1</td>\n",
       "      <td>1</td>\n",
       "      <td>1</td>\n",
       "      <td>1</td>\n",
       "      <td>1</td>\n",
       "      <td>1</td>\n",
       "      <td>1</td>\n",
       "      <td>0</td>\n",
       "      <td>1</td>\n",
       "      <td>1</td>\n",
       "    </tr>\n",
       "    <tr>\n",
       "      <th>773</th>\n",
       "      <td>0</td>\n",
       "      <td>3</td>\n",
       "      <td>1</td>\n",
       "      <td>1</td>\n",
       "      <td>1</td>\n",
       "      <td>2</td>\n",
       "      <td>2</td>\n",
       "      <td>1</td>\n",
       "      <td>1</td>\n",
       "      <td>1</td>\n",
       "      <td>...</td>\n",
       "      <td>0</td>\n",
       "      <td>0</td>\n",
       "      <td>0</td>\n",
       "      <td>1</td>\n",
       "      <td>1</td>\n",
       "      <td>1</td>\n",
       "      <td>0</td>\n",
       "      <td>0</td>\n",
       "      <td>1</td>\n",
       "      <td>1</td>\n",
       "    </tr>\n",
       "    <tr>\n",
       "      <th>772</th>\n",
       "      <td>4</td>\n",
       "      <td>1</td>\n",
       "      <td>6</td>\n",
       "      <td>1</td>\n",
       "      <td>5</td>\n",
       "      <td>3</td>\n",
       "      <td>3</td>\n",
       "      <td>0</td>\n",
       "      <td>1</td>\n",
       "      <td>2</td>\n",
       "      <td>...</td>\n",
       "      <td>0</td>\n",
       "      <td>0</td>\n",
       "      <td>1</td>\n",
       "      <td>1</td>\n",
       "      <td>1</td>\n",
       "      <td>1</td>\n",
       "      <td>0</td>\n",
       "      <td>0</td>\n",
       "      <td>0</td>\n",
       "      <td>1</td>\n",
       "    </tr>\n",
       "    <tr>\n",
       "      <th>771</th>\n",
       "      <td>1</td>\n",
       "      <td>1</td>\n",
       "      <td>1</td>\n",
       "      <td>5</td>\n",
       "      <td>2</td>\n",
       "      <td>1</td>\n",
       "      <td>1</td>\n",
       "      <td>1</td>\n",
       "      <td>2</td>\n",
       "      <td>3</td>\n",
       "      <td>...</td>\n",
       "      <td>1</td>\n",
       "      <td>0</td>\n",
       "      <td>0</td>\n",
       "      <td>2</td>\n",
       "      <td>2</td>\n",
       "      <td>2</td>\n",
       "      <td>1</td>\n",
       "      <td>0</td>\n",
       "      <td>0</td>\n",
       "      <td>1</td>\n",
       "    </tr>\n",
       "    <tr>\n",
       "      <th>770</th>\n",
       "      <td>5</td>\n",
       "      <td>1</td>\n",
       "      <td>5</td>\n",
       "      <td>2</td>\n",
       "      <td>8</td>\n",
       "      <td>3</td>\n",
       "      <td>3</td>\n",
       "      <td>2</td>\n",
       "      <td>2</td>\n",
       "      <td>3</td>\n",
       "      <td>...</td>\n",
       "      <td>1</td>\n",
       "      <td>0</td>\n",
       "      <td>0</td>\n",
       "      <td>2</td>\n",
       "      <td>2</td>\n",
       "      <td>2</td>\n",
       "      <td>1</td>\n",
       "      <td>0</td>\n",
       "      <td>0</td>\n",
       "      <td>1</td>\n",
       "    </tr>\n",
       "  </tbody>\n",
       "</table>\n",
       "<p>5 rows × 14563 columns</p>\n",
       "</div>"
      ],
      "text/plain": [
       "     3      773    772    771    770    769    768    767    766    765    \\\n",
       "3        9      0      4      1      5      3      3      2      1      2   \n",
       "773      0      3      1      1      1      2      2      1      1      1   \n",
       "772      4      1      6      1      5      3      3      0      1      2   \n",
       "771      1      1      1      5      2      1      1      1      2      3   \n",
       "770      5      1      5      2      8      3      3      2      2      3   \n",
       "\n",
       "     ...  14335  14331  14330  14329  14328  14871  14870  14929  14869  14868  \n",
       "3    ...      1      1      1      1      1      1      1      0      1      1  \n",
       "773  ...      0      0      0      1      1      1      0      0      1      1  \n",
       "772  ...      0      0      1      1      1      1      0      0      0      1  \n",
       "771  ...      1      0      0      2      2      2      1      0      0      1  \n",
       "770  ...      1      0      0      2      2      2      1      0      0      1  \n",
       "\n",
       "[5 rows x 14563 columns]"
      ]
     },
     "execution_count": 48,
     "metadata": {},
     "output_type": "execute_result"
    }
   ],
   "source": [
    "similarity_matrix.head()"
   ]
  },
  {
   "cell_type": "markdown",
   "id": "b95567aa",
   "metadata": {},
   "source": [
    "The numbers in each row correspond to how similar the two shows are. The higher the number = the more similar. \n",
    "\n",
    "The highest number in each row will be the show in comparison to itself. So there is a diagonal line going across the matrix which is the max number for each row. For example, the most similar show to show '1' (in the first row of the similarity matrix) IS show '1'. They share the exact same attributes. So comparing the other shows with that max number is how to evaluate the recommendations returned from the function below.\n",
    "\n",
    "The lowest a number can be is 0 while the max in this matrix is 9. Shows will only be recommended if they have a similarity number greater than the max (the show with itself) - 2."
   ]
  },
  {
   "cell_type": "code",
   "execution_count": 49,
   "id": "981ccab0",
   "metadata": {},
   "outputs": [],
   "source": [
    "def find_similar_shows(anime_id, similarity_matrix):\n",
    "    '''\n",
    "    Finds similar shows based on what genres/decades they have in common\n",
    "    \n",
    "    INPUT:\n",
    "    anime_id (int) - id of anime show that appears in the animes_df\n",
    "    similarity_matrix (pandas dataframe) - the similarity matrix from above\n",
    "    \n",
    "    OUTPUT:\n",
    "    similar_shows - pandas dataframe of similar shows sorted by highest rated\n",
    "    '''\n",
    "    recs = []\n",
    "    \n",
    "    # find index of show in similarity matrix\n",
    "    show_idx = np.where(animes_df['uid'] == anime_id)[0][0]\n",
    "    \n",
    "    # find other shows that are similar to the one passed in as an arg\n",
    "    similar_idxs = np.where(similarity_matrix.iloc[show_idx] > np.max(similarity_matrix.iloc[show_idx]-2))[0]\n",
    "\n",
    "    \n",
    "    # find their info in the animes dataframe\n",
    "    similar_shows = animes_df.iloc[similar_idxs, ]\n",
    "    \n",
    "    # remove the show that was passed in as an arg\n",
    "    # Note: the most similar show to the one that was passed IS the one that was passed\n",
    "    similar_shows = similar_shows[similar_shows['uid'] != anime_id]\n",
    "    \n",
    "    # sort by highest rank\n",
    "    similar_shows.sort_values(by=['ranked'], ascending=True)\n",
    "    \n",
    "    # store show title and rank for recs\n",
    "    for index, row in similar_shows.iterrows():\n",
    "        recs.append((row['title'], row['ranked']))\n",
    "    \n",
    "    \n",
    "    \n",
    "    return recs"
   ]
  },
  {
   "cell_type": "code",
   "execution_count": 50,
   "id": "99f2e951",
   "metadata": {
    "scrolled": false
   },
   "outputs": [
    {
     "name": "stdout",
     "output_type": "stream",
     "text": [
      "('Fullmetal Alchemist', 287.0)\n",
      "('InuYasha Movie 3: Tenka Hadou no Ken', 791.0)\n",
      "('InuYasha Movie 2: Kagami no Naka no Mugenjo', 1077.0)\n",
      "('InuYasha Movie 1: Toki wo Koeru Omoi', 1275.0)\n",
      "('InuYasha Movie 4: Guren no Houraijima', 1386.0)\n",
      "('Fullmetal Alchemist: The Sacred Star of Milos', 2140.0)\n"
     ]
    }
   ],
   "source": [
    "# find similar shows to the highest ranked show\n",
    "# anime_id 5114 belongs to the show ranked number 1\n",
    "top_ranked_recs = find_similar_shows(5114, similarity_matrix)\n",
    "for show in top_ranked_recs:\n",
    "    print(show)"
   ]
  },
  {
   "cell_type": "code",
   "execution_count": 51,
   "id": "4ec9066b",
   "metadata": {},
   "outputs": [
    {
     "name": "stdout",
     "output_type": "stream",
     "text": [
      "Similarity to itself:  9\n"
     ]
    }
   ],
   "source": [
    "show_idx = np.where(animes_df['uid'] == 5114)[0][0]\n",
    "print('Similarity to itself: ', np.max(similarity_matrix.iloc[show_idx]))"
   ]
  },
  {
   "cell_type": "code",
   "execution_count": 52,
   "id": "d2552058",
   "metadata": {
    "scrolled": true
   },
   "outputs": [
    {
     "data": {
      "text/plain": [
       "1    4929\n",
       "2    3538\n",
       "0    2842\n",
       "3    1903\n",
       "4     910\n",
       "5     350\n",
       "6      75\n",
       "7       9\n",
       "8       5\n",
       "9       2\n",
       "Name: 3, dtype: int64"
      ]
     },
     "execution_count": 52,
     "metadata": {},
     "output_type": "execute_result"
    }
   ],
   "source": [
    "similarity_matrix.iloc[show_idx].value_counts()"
   ]
  },
  {
   "cell_type": "markdown",
   "id": "2443d770",
   "metadata": {},
   "source": [
    "I'm not satisfied with these recommendations. The similarity matrix is saying that only these 6 shows are similar to the top ranking show. This function could be refined.\n",
    "\n",
    "There needs to be ***at least*** 10 recommendations. If there are less than 10 when using (max - 2) to find similar shows, I will increase 'slack' by 1 so that the function grabs all the shows that are greater than (max - 3). This will continue until 10 shows are found."
   ]
  },
  {
   "cell_type": "code",
   "execution_count": 53,
   "id": "8351f232",
   "metadata": {},
   "outputs": [],
   "source": [
    "def find_similar_shows(anime_id, similarity_matrix):\n",
    "    '''\n",
    "    Finds similar shows based on what genres/decades they have in common\n",
    "    \n",
    "    INPUT:\n",
    "    anime_id (int) - id of anime show that appears in the animes_df\n",
    "    similarity_matrix (pandas dataframe) - the similarity matrix from above\n",
    "    \n",
    "    OUTPUT:\n",
    "    similar_shows - pandas dataframe of similar shows sorted by highest rated\n",
    "    '''\n",
    "    recs = []\n",
    "    slack = 2\n",
    "    \n",
    "    # find index of show in similarity matrix\n",
    "    show_idx = np.where(animes_df['uid'] == anime_id)[0][0]\n",
    "    \n",
    "    # find other shows that are similar to the one passed in as an arg\n",
    "    similar_idxs = np.where(similarity_matrix.iloc[show_idx] > np.max(similarity_matrix.iloc[show_idx]-slack))[0]\n",
    "    \n",
    "    # if there are not the min num of recs\n",
    "    while len(similar_idxs) < 10:\n",
    "        slack += 1\n",
    "        # give slack and grab more similar shows\n",
    "        similar_idxs = np.where(similarity_matrix.iloc[show_idx] > np.max(similarity_matrix.iloc[show_idx]-slack))[0]\n",
    "    \n",
    "    # find their info in the animes dataframe\n",
    "    similar_shows = animes_df.iloc[similar_idxs, ]\n",
    "    \n",
    "    # remove the show that was passed in as an arg\n",
    "    # Note: the most similar show to the one that was passed IS the one that was passed\n",
    "    similar_shows = similar_shows[similar_shows['uid'] != anime_id]\n",
    "    \n",
    "    # sort by highest rank\n",
    "    similar_shows.sort_values(by=['ranked'], ascending=True)\n",
    "    \n",
    "    # store show title and rank for recs\n",
    "    for index, row in similar_shows.iterrows():\n",
    "        recs.append((row['title'], row['ranked']))\n",
    "    \n",
    "    \n",
    "    \n",
    "    return recs"
   ]
  },
  {
   "cell_type": "code",
   "execution_count": 54,
   "id": "154c053d",
   "metadata": {
    "scrolled": true
   },
   "outputs": [
    {
     "name": "stdout",
     "output_type": "stream",
     "text": [
      "('InuYasha: Kanketsu-hen', 249.0)\n",
      "('One Piece Film: Strong World', 283.0)\n",
      "('Fullmetal Alchemist', 287.0)\n",
      "('Tsubasa: Shunraiki', 350.0)\n",
      "('Fullmetal Alchemist: Brotherhood Specials', 456.0)\n",
      "('Fairy Tail', 665.0)\n",
      "('InuYasha (TV)', 694.0)\n",
      "('InuYasha Movie 3: Tenka Hadou no Ken', 791.0)\n",
      "('InuYasha Movie 2: Kagami no Naka no Mugenjo', 1077.0)\n",
      "('InuYasha Movie 1: Toki wo Koeru Omoi', 1275.0)\n",
      "('InuYasha Movie 4: Guren no Houraijima', 1386.0)\n",
      "('Fullmetal Alchemist: The Sacred Star of Milos', 2140.0)\n",
      "('Fullmetal Alchemist: Reflections', 2363.0)\n",
      "('Digimon Frontier', 2862.0)\n",
      "('Zero no Tsukaima: Princesses no Rondo Picture Drama', 3699.0)\n"
     ]
    }
   ],
   "source": [
    "# find similar shows to the highest ranked show\n",
    "# anime_id 5114 belongs to the show ranked number 1\n",
    "top_ranked_recs = find_similar_shows(5114, similarity_matrix)\n",
    "for show in top_ranked_recs:\n",
    "    print(show)"
   ]
  },
  {
   "cell_type": "markdown",
   "id": "af44e881",
   "metadata": {},
   "source": [
    "This looks better. I passed in the highest ranked show and the function above isn't returning the other highest ranking shows but shows that are most similar in attributes. This is what content based recommendations should look like.\n",
    "\n",
    "Feel free to run this function to find some other recommendations! Just pass in an anime id from the animes dataframe!"
   ]
  },
  {
   "cell_type": "code",
   "execution_count": null,
   "id": "c5d5daf2",
   "metadata": {},
   "outputs": [],
   "source": [
    "anime_id = # (int)\n",
    "top_ranked_recs = find_similar_shows(anime_id, similarity_matrix)\n",
    "for show in top_ranked_recs:\n",
    "    print(show)"
   ]
  },
  {
   "cell_type": "code",
   "execution_count": null,
   "id": "5783527d",
   "metadata": {},
   "outputs": [],
   "source": [
    "anime_id = # (int)\n",
    "top_ranked_recs = find_similar_shows(anime_id, similarity_matrix)\n",
    "for show in top_ranked_recs:\n",
    "    print(show)"
   ]
  },
  {
   "cell_type": "markdown",
   "id": "07594548",
   "metadata": {},
   "source": [
    "# Collaborative Filtering\n",
    "Collaborative filtering will require matrix factorization. To evaluate the models performance, the reviews data will need to be split into a training set and a test set. The steps for this section:\n",
    "- Separate reviews data into a training and test set\n",
    "- Create a FunkSVD algorithm and train the data\n",
    "- Hyperparameter tuning\n",
    "- Make predictions\n",
    "- Prediction validation"
   ]
  },
  {
   "cell_type": "code",
   "execution_count": 145,
   "id": "8f1f07f6",
   "metadata": {
    "scrolled": false
   },
   "outputs": [
    {
     "data": {
      "text/html": [
       "<div>\n",
       "<style scoped>\n",
       "    .dataframe tbody tr th:only-of-type {\n",
       "        vertical-align: middle;\n",
       "    }\n",
       "\n",
       "    .dataframe tbody tr th {\n",
       "        vertical-align: top;\n",
       "    }\n",
       "\n",
       "    .dataframe thead th {\n",
       "        text-align: right;\n",
       "    }\n",
       "</style>\n",
       "<table border=\"1\" class=\"dataframe\">\n",
       "  <thead>\n",
       "    <tr style=\"text-align: right;\">\n",
       "      <th></th>\n",
       "      <th>profile</th>\n",
       "      <th>anime_uid</th>\n",
       "      <th>score</th>\n",
       "    </tr>\n",
       "  </thead>\n",
       "  <tbody>\n",
       "    <tr>\n",
       "      <th>0</th>\n",
       "      <td>DesolatePsyche</td>\n",
       "      <td>34096</td>\n",
       "      <td>8</td>\n",
       "    </tr>\n",
       "    <tr>\n",
       "      <th>1</th>\n",
       "      <td>baekbeans</td>\n",
       "      <td>34599</td>\n",
       "      <td>10</td>\n",
       "    </tr>\n",
       "    <tr>\n",
       "      <th>2</th>\n",
       "      <td>skrn</td>\n",
       "      <td>28891</td>\n",
       "      <td>7</td>\n",
       "    </tr>\n",
       "    <tr>\n",
       "      <th>3</th>\n",
       "      <td>edgewalker00</td>\n",
       "      <td>2904</td>\n",
       "      <td>9</td>\n",
       "    </tr>\n",
       "    <tr>\n",
       "      <th>4</th>\n",
       "      <td>aManOfCulture99</td>\n",
       "      <td>4181</td>\n",
       "      <td>10</td>\n",
       "    </tr>\n",
       "  </tbody>\n",
       "</table>\n",
       "</div>"
      ],
      "text/plain": [
       "           profile  anime_uid  score\n",
       "0   DesolatePsyche      34096      8\n",
       "1        baekbeans      34599     10\n",
       "2             skrn      28891      7\n",
       "3     edgewalker00       2904      9\n",
       "4  aManOfCulture99       4181     10"
      ]
     },
     "execution_count": 145,
     "metadata": {},
     "output_type": "execute_result"
    }
   ],
   "source": [
    "reviews_df.head()"
   ]
  },
  {
   "cell_type": "code",
   "execution_count": 71,
   "id": "873831fa",
   "metadata": {},
   "outputs": [
    {
     "data": {
      "text/plain": [
       "(130519, 3)"
      ]
     },
     "execution_count": 71,
     "metadata": {},
     "output_type": "execute_result"
    }
   ],
   "source": [
    "reviews_df.shape"
   ]
  },
  {
   "cell_type": "markdown",
   "id": "2759f02c",
   "metadata": {},
   "source": [
    "Step 1: Create a training and test set for the FunkSVD algorithm in a 80/20 split."
   ]
  },
  {
   "cell_type": "code",
   "execution_count": 146,
   "id": "c23d6557",
   "metadata": {},
   "outputs": [],
   "source": [
    "def create_train_test(reviews, training_size, testing_size):\n",
    "    '''    \n",
    "    INPUT:\n",
    "    reviews - (pandas df) dataframe to split into train and test\n",
    "    order_by - (string) column name to sort by\n",
    "    training_size - (int) number of rows in training set\n",
    "    testing_size - (int) number of columns in the test set\n",
    "    \n",
    "    OUTPUT:\n",
    "    training_df -  (pandas df) dataframe of the training set\n",
    "    validation_df - (pandas df) dataframe of the test set\n",
    "    '''\n",
    "    \n",
    "    # training data is 80% of the reviews dataset\n",
    "    training_df = reviews_df.head(training_size)\n",
    "    \n",
    "    # testing data (validation data) is the remaining 20%\n",
    "    validation_df = reviews_df.iloc[training_size : training_size + testing_size]\n",
    "    \n",
    "    return training_df, validation_df"
   ]
  },
  {
   "cell_type": "code",
   "execution_count": 147,
   "id": "b2f15f75",
   "metadata": {},
   "outputs": [],
   "source": [
    "# split train and validation data\n",
    "train_df, val_df = create_train_test(reviews_df,  104000, 26519)"
   ]
  },
  {
   "cell_type": "markdown",
   "id": "64604a6a",
   "metadata": {},
   "source": [
    "Step 2: Create a FunkSVD algorithm. This is a basic form of FunkSVD that performs matrix factorization."
   ]
  },
  {
   "cell_type": "code",
   "execution_count": 15,
   "id": "b58de320",
   "metadata": {},
   "outputs": [],
   "source": [
    "def FunkSVD(user_item_matrix, latent_features, learning_rate, iters):\n",
    "    '''\n",
    "    This function performs matrix factorization using a basic form of FunkSVD with no regularization\n",
    "    \n",
    "    INPUT:\n",
    "    user_item_matrix - (numpy array) a matrix with users as rows, animes as columns, and ratings as values\n",
    "    latent_features - (int) the number of latent features used\n",
    "    learning_rate - (float) the learning rate \n",
    "    iters - (int) the number of iterations\n",
    "    \n",
    "    OUTPUT:\n",
    "    user_mat - (numpy array) a user by latent feature matrix\n",
    "    anime_mat - (numpy array) a latent feature by anime matrix\n",
    "    '''\n",
    "    \n",
    "    # Set up useful values to be used through the rest of the function\n",
    "    n_users = user_item_matrix.shape[0]\n",
    "    n_animes = user_item_matrix.shape[1]\n",
    "    num_ratings = np.count_nonzero(~np.isnan(user_item_matrix))\n",
    "    \n",
    "    # initialize the user and anime matrices with random values\n",
    "    user_mat = np.random.rand(n_users, latent_features)\n",
    "    anime_mat = np.random.rand(latent_features, n_animes)\n",
    "    \n",
    "    # initialize sse at 0 for first iteration\n",
    "    sse_accum = 0\n",
    "    \n",
    "    # keep track of iteration and MSE\n",
    "    print(\"Optimizaiton Statistics\")\n",
    "    print(\"Iterations | Mean Squared Error \")\n",
    "    \n",
    "    # for each iteration\n",
    "    for iteration in range(iters):\n",
    "\n",
    "        # update our sse\n",
    "        old_sse = sse_accum\n",
    "        sse_accum = 0\n",
    "        \n",
    "        # For each user-anime pair\n",
    "        for i in range(n_users):\n",
    "            for j in range(n_animes):\n",
    "                \n",
    "                # if the rating exists\n",
    "                if user_item_matrix[i, j] > 0:\n",
    "                    \n",
    "                    # compute the error as the actual minus the dot product of the user and anime latent features\n",
    "                    diff = user_item_matrix[i, j] - np.dot(user_mat[i, :], anime_mat[:, j])\n",
    "                    \n",
    "                    # Keep track of the sum of squared errors for the matrix\n",
    "                    sse_accum += diff**2\n",
    "                    \n",
    "                    # update the values in each matrix in the direction of the gradient\n",
    "                    for k in range(latent_features):\n",
    "                        user_mat[i, k] += learning_rate * (2*diff*anime_mat[k, j])\n",
    "                        anime_mat[k, j] += learning_rate * (2*diff*user_mat[i, k])\n",
    "\n",
    "        # print results\n",
    "        print(\"%d \\t\\t %f\" % (iteration+1, sse_accum / num_ratings))\n",
    "        \n",
    "    return user_mat, anime_mat "
   ]
  },
  {
   "cell_type": "markdown",
   "id": "2b20644a",
   "metadata": {},
   "source": [
    "Now that the FunkSVD algorithm is done, a user-item matrix needs to be created. A user-item matrix is a matrix where the users are the rows, the anime shows are the columns and the ratings of the shows fill the cells."
   ]
  },
  {
   "cell_type": "code",
   "execution_count": 148,
   "id": "36fe92ce",
   "metadata": {},
   "outputs": [],
   "source": [
    "# create user-item matrix\n",
    "user_item_matrix = train_df.groupby(['profile', 'anime_uid'])['score'].max().unstack()\n",
    "# convert to numpy array to feed into FunkSVD algorithm\n",
    "train_data_np = np.array(user_item_matrix)"
   ]
  },
  {
   "cell_type": "code",
   "execution_count": 163,
   "id": "1e421359",
   "metadata": {
    "scrolled": true
   },
   "outputs": [
    {
     "name": "stdout",
     "output_type": "stream",
     "text": [
      "Optimizaiton Statistics\n",
      "Iterations | Mean Squared Error \n",
      "1 \t\t 7.696302\n",
      "2 \t\t 4.273932\n",
      "3 \t\t 3.208036\n",
      "4 \t\t 2.595520\n",
      "5 \t\t 2.163113\n",
      "6 \t\t 1.835808\n",
      "7 \t\t 1.579264\n",
      "8 \t\t 1.371623\n",
      "9 \t\t 1.199322\n",
      "10 \t\t 1.054202\n",
      "11 \t\t 0.930934\n",
      "12 \t\t 0.825656\n",
      "13 \t\t 0.735386\n",
      "14 \t\t 0.657739\n",
      "15 \t\t 0.590764\n",
      "16 \t\t 0.532842\n",
      "17 \t\t 0.482612\n",
      "18 \t\t 0.438924\n",
      "19 \t\t 0.400810\n",
      "20 \t\t 0.367450\n"
     ]
    }
   ],
   "source": [
    "# Train the FunkSVD algorithm and return the U and V matrices\n",
    "user_mat, anime_mat = FunkSVD(train_data_np, latent_features=15, learning_rate=0.005, iters=20)"
   ]
  },
  {
   "cell_type": "markdown",
   "id": "a90129a8",
   "metadata": {},
   "source": [
    "Step 3: Hyperparameter tuning\n",
    "\n",
    "The cell above was the first step in tuning the model. The unforunate thing about FunkSVD is that finding the best parameters for it are done through trial and error. Each parameter is a small number solely to get a base for how well the model is performing. From here I can loop through different numbers of latent features to find which results in the lowest MSE. The same learning rate and num of iterations are used.\n",
    "\n",
    "NOTE: The cell below will take a long time to run. There is no need to run it. The results of the cell are in the write up under the Model Evaluation and Validation section. The final parameters are the following.\n",
    "\n",
    "user_mat, anime_mat = FunkSVD(train_data_np, latent_features=100, learning_rate=0.005, iters=30)"
   ]
  },
  {
   "cell_type": "code",
   "execution_count": 64,
   "id": "e1b06089",
   "metadata": {
    "scrolled": false
   },
   "outputs": [
    {
     "name": "stdout",
     "output_type": "stream",
     "text": [
      "Learning Rate:  0.005    |    Latent Features:  25\n",
      "Optimizaiton Statistics\n",
      "Iterations | Mean Squared Error \n",
      "1 \t\t 5.001055\n",
      "2 \t\t 3.474837\n",
      "3 \t\t 2.762005\n",
      "4 \t\t 2.247808\n",
      "5 \t\t 1.838886\n",
      "6 \t\t 1.512138\n",
      "7 \t\t 1.251048\n",
      "8 \t\t 1.040363\n",
      "9 \t\t 0.869461\n",
      "10 \t\t 0.730566\n",
      "11 \t\t 0.617456\n",
      "12 \t\t 0.525083\n",
      "13 \t\t 0.449365\n",
      "14 \t\t 0.387025\n",
      "15 \t\t 0.335441\n",
      "16 \t\t 0.292524\n",
      "17 \t\t 0.256617\n",
      "18 \t\t 0.226403\n",
      "19 \t\t 0.200837\n",
      "20 \t\t 0.179082\n",
      "Learning Rate:  0.005    |    Latent Features:  35\n",
      "Optimizaiton Statistics\n",
      "Iterations | Mean Squared Error \n",
      "1 \t\t 5.250201\n",
      "2 \t\t 3.510434\n",
      "3 \t\t 2.739188\n",
      "4 \t\t 2.166632\n",
      "5 \t\t 1.710929\n",
      "6 \t\t 1.353370\n",
      "7 \t\t 1.073636\n",
      "8 \t\t 0.854892\n",
      "9 \t\t 0.684120\n",
      "10 \t\t 0.550866\n",
      "11 \t\t 0.446759\n",
      "12 \t\t 0.365185\n",
      "13 \t\t 0.300978\n",
      "14 \t\t 0.250148\n",
      "15 \t\t 0.209633\n",
      "16 \t\t 0.177099\n",
      "17 \t\t 0.150771\n",
      "18 \t\t 0.129296\n",
      "19 \t\t 0.111643\n",
      "20 \t\t 0.097022\n",
      "Learning Rate:  0.005    |    Latent Features:  45\n",
      "Optimizaiton Statistics\n",
      "Iterations | Mean Squared Error \n",
      "1 \t\t 7.091316\n",
      "2 \t\t 3.807264\n",
      "3 \t\t 2.807594\n",
      "4 \t\t 2.115969\n",
      "5 \t\t 1.589458\n",
      "6 \t\t 1.197949\n",
      "7 \t\t 0.907478\n",
      "8 \t\t 0.691531\n",
      "9 \t\t 0.531141\n",
      "10 \t\t 0.411869\n",
      "11 \t\t 0.322786\n",
      "12 \t\t 0.255792\n",
      "13 \t\t 0.204974\n",
      "14 \t\t 0.166048\n",
      "15 \t\t 0.135922\n",
      "16 \t\t 0.112358\n",
      "17 \t\t 0.093732\n",
      "18 \t\t 0.078860\n",
      "19 \t\t 0.066868\n",
      "20 \t\t 0.057109\n",
      "Learning Rate:  0.01    |    Latent Features:  25\n",
      "Optimizaiton Statistics\n",
      "Iterations | Mean Squared Error \n"
     ]
    },
    {
     "name": "stderr",
     "output_type": "stream",
     "text": [
      "C:\\Users\\SaintGemini\\AppData\\Local\\Temp\\ipykernel_11720\\746130157.py:50: RuntimeWarning: overflow encountered in double_scalars\n",
      "  sse_accum += diff**2\n",
      "C:\\Users\\SaintGemini\\AppData\\Local\\Temp\\ipykernel_11720\\746130157.py:54: RuntimeWarning: overflow encountered in double_scalars\n",
      "  user_mat[i, k] += learning_rate * (2*diff*movie_mat[k, j])\n"
     ]
    },
    {
     "name": "stdout",
     "output_type": "stream",
     "text": [
      "1 \t\t nan\n"
     ]
    },
    {
     "name": "stderr",
     "output_type": "stream",
     "text": [
      "C:\\Users\\SaintGemini\\AppData\\Local\\Temp\\ipykernel_11720\\746130157.py:55: RuntimeWarning: overflow encountered in double_scalars\n",
      "  movie_mat[k, j] += learning_rate * (2*diff*user_mat[i, k])\n"
     ]
    },
    {
     "name": "stdout",
     "output_type": "stream",
     "text": [
      "2 \t\t nan\n",
      "3 \t\t nan\n",
      "4 \t\t nan\n",
      "5 \t\t nan\n",
      "6 \t\t nan\n",
      "7 \t\t nan\n",
      "8 \t\t nan\n",
      "9 \t\t nan\n",
      "10 \t\t nan\n",
      "11 \t\t nan\n",
      "12 \t\t nan\n"
     ]
    },
    {
     "ename": "KeyboardInterrupt",
     "evalue": "",
     "output_type": "error",
     "traceback": [
      "\u001b[1;31m---------------------------------------------------------------------------\u001b[0m",
      "\u001b[1;31mKeyboardInterrupt\u001b[0m                         Traceback (most recent call last)",
      "Input \u001b[1;32mIn [64]\u001b[0m, in \u001b[0;36m<module>\u001b[1;34m\u001b[0m\n\u001b[0;32m      5\u001b[0m \u001b[38;5;28;01mfor\u001b[39;00m feature \u001b[38;5;129;01min\u001b[39;00m latent_features:\n\u001b[0;32m      6\u001b[0m     \u001b[38;5;28mprint\u001b[39m(\u001b[38;5;124m'\u001b[39m\u001b[38;5;124mLearning Rate: \u001b[39m\u001b[38;5;124m'\u001b[39m, rate, \u001b[38;5;124m'\u001b[39m\u001b[38;5;124m   |   \u001b[39m\u001b[38;5;124m'\u001b[39m, \u001b[38;5;124m'\u001b[39m\u001b[38;5;124mLatent Features: \u001b[39m\u001b[38;5;124m'\u001b[39m, feature)\n\u001b[1;32m----> 7\u001b[0m     user_mat, movie_mat \u001b[38;5;241m=\u001b[39m \u001b[43mFunkSVD\u001b[49m\u001b[43m(\u001b[49m\u001b[43mtrain_data_np\u001b[49m\u001b[43m,\u001b[49m\u001b[43m \u001b[49m\u001b[43mlatent_features\u001b[49m\u001b[38;5;241;43m=\u001b[39;49m\u001b[43mfeature\u001b[49m\u001b[43m,\u001b[49m\u001b[43m \u001b[49m\u001b[43mlearning_rate\u001b[49m\u001b[38;5;241;43m=\u001b[39;49m\u001b[43mrate\u001b[49m\u001b[43m,\u001b[49m\u001b[43m \u001b[49m\u001b[43miters\u001b[49m\u001b[38;5;241;43m=\u001b[39;49m\u001b[38;5;241;43m20\u001b[39;49m\u001b[43m)\u001b[49m\n",
      "Input \u001b[1;32mIn [58]\u001b[0m, in \u001b[0;36mFunkSVD\u001b[1;34m(ratings_mat, latent_features, learning_rate, iters)\u001b[0m\n\u001b[0;32m     41\u001b[0m \u001b[38;5;28;01mfor\u001b[39;00m j \u001b[38;5;129;01min\u001b[39;00m \u001b[38;5;28mrange\u001b[39m(n_movies):\n\u001b[0;32m     42\u001b[0m     \n\u001b[0;32m     43\u001b[0m     \u001b[38;5;66;03m# if the rating exists\u001b[39;00m\n\u001b[0;32m     44\u001b[0m     \u001b[38;5;28;01mif\u001b[39;00m ratings_mat[i, j] \u001b[38;5;241m>\u001b[39m \u001b[38;5;241m0\u001b[39m:\n\u001b[0;32m     45\u001b[0m         \n\u001b[0;32m     46\u001b[0m         \u001b[38;5;66;03m# compute the error as the actual minus the dot product of the user and movie latent features\u001b[39;00m\n\u001b[1;32m---> 47\u001b[0m         diff \u001b[38;5;241m=\u001b[39m ratings_mat[i, j] \u001b[38;5;241m-\u001b[39m \u001b[43mnp\u001b[49m\u001b[38;5;241;43m.\u001b[39;49m\u001b[43mdot\u001b[49m\u001b[43m(\u001b[49m\u001b[43muser_mat\u001b[49m\u001b[43m[\u001b[49m\u001b[43mi\u001b[49m\u001b[43m,\u001b[49m\u001b[43m \u001b[49m\u001b[43m:\u001b[49m\u001b[43m]\u001b[49m\u001b[43m,\u001b[49m\u001b[43m \u001b[49m\u001b[43mmovie_mat\u001b[49m\u001b[43m[\u001b[49m\u001b[43m:\u001b[49m\u001b[43m,\u001b[49m\u001b[43m \u001b[49m\u001b[43mj\u001b[49m\u001b[43m]\u001b[49m\u001b[43m)\u001b[49m\n\u001b[0;32m     49\u001b[0m         \u001b[38;5;66;03m# Keep track of the sum of squared errors for the matrix\u001b[39;00m\n\u001b[0;32m     50\u001b[0m         sse_accum \u001b[38;5;241m+\u001b[39m\u001b[38;5;241m=\u001b[39m diff\u001b[38;5;241m*\u001b[39m\u001b[38;5;241m*\u001b[39m\u001b[38;5;241m2\u001b[39m\n",
      "File \u001b[1;32m<__array_function__ internals>:5\u001b[0m, in \u001b[0;36mdot\u001b[1;34m(*args, **kwargs)\u001b[0m\n",
      "\u001b[1;31mKeyboardInterrupt\u001b[0m: "
     ]
    }
   ],
   "source": [
    "# num of latent features to test\n",
    "latent_features = [25, 35, 45, 100]\n",
    "\n",
    "# test each value from above\n",
    "for feature in latent_features:\n",
    "    print('Learning Rate: ', 0.005, '   |   ', 'Latent Features: ', feature)\n",
    "    user_mat, anime_mat = FunkSVD(train_data_np, latent_features=feature, learning_rate=0.005, iters=20)"
   ]
  },
  {
   "cell_type": "markdown",
   "id": "747f4a8d",
   "metadata": {},
   "source": [
    "Clearly the 100 latent features performed the best and the learning rate seems to be a good foundation as well. But now that a good number has been chose, for two of the parameters, let's increase the iterations to see how well the algorithm performs when given more time to learn."
   ]
  },
  {
   "cell_type": "code",
   "execution_count": 149,
   "id": "d5eb4a33",
   "metadata": {
    "scrolled": true
   },
   "outputs": [
    {
     "name": "stdout",
     "output_type": "stream",
     "text": [
      "Optimizaiton Statistics\n",
      "Iterations | Mean Squared Error \n",
      "1 \t\t 33.266839\n",
      "2 \t\t 5.944970\n",
      "3 \t\t 3.072303\n",
      "4 \t\t 1.746047\n",
      "5 \t\t 1.023346\n",
      "6 \t\t 0.616724\n",
      "7 \t\t 0.384339\n",
      "8 \t\t 0.248408\n",
      "9 \t\t 0.166548\n",
      "10 \t\t 0.115695\n",
      "11 \t\t 0.083108\n",
      "12 \t\t 0.061586\n",
      "13 \t\t 0.046954\n",
      "14 \t\t 0.036726\n",
      "15 \t\t 0.029387\n",
      "16 \t\t 0.023990\n",
      "17 \t\t 0.019929\n",
      "18 \t\t 0.016811\n",
      "19 \t\t 0.014370\n",
      "20 \t\t 0.012427\n",
      "21 \t\t 0.010856\n",
      "22 \t\t 0.009570\n",
      "23 \t\t 0.008504\n",
      "24 \t\t 0.007611\n",
      "25 \t\t 0.006856\n",
      "26 \t\t 0.006213\n",
      "27 \t\t 0.005660\n",
      "28 \t\t 0.005182\n",
      "29 \t\t 0.004765\n",
      "30 \t\t 0.004400\n"
     ]
    }
   ],
   "source": [
    "user_mat, anime_mat = FunkSVD(train_data_np, latent_features=100, learning_rate=0.005, iters=30)"
   ]
  },
  {
   "cell_type": "markdown",
   "id": "f5754d28",
   "metadata": {},
   "source": [
    "A MSE of 0.0044 isn't bad. It's the best value so far. If this algorithm kept running, it could further minimize the MSE. But this is sufficient for now.\n",
    "\n",
    "Step 4: Make predictions\n",
    "\n",
    "Now that the FunkSVD algorithm is trained. A way to predict ratings needs to be made. By taking the dot product of the user row in the user_matrix with the anime column in the anime_matrix, a rating could be predicted."
   ]
  },
  {
   "cell_type": "code",
   "execution_count": 150,
   "id": "58e4f2dc",
   "metadata": {},
   "outputs": [],
   "source": [
    "def predict_rating(user_matrix, anime_matrix, user_id, anime_id):\n",
    "    '''\n",
    "    INPUT:\n",
    "    user_matrix - user by latent factor matrix\n",
    "    anime_matrix - latent factor by anime matrix\n",
    "    user_id - the user_id from the reviews df\n",
    "    anime_id - the movie_id according the animes df\n",
    "    \n",
    "    OUTPUT:\n",
    "    pred - the predicted rating for user_id-anime_id according to FunkSVD\n",
    "    '''\n",
    "    # Use the training data to create a series of users and animes that matches the ordering in training data\n",
    "    user_ids_series = np.array(user_item_matrix.index)\n",
    "    anime_ids_series = np.array(user_item_matrix.columns)\n",
    "    \n",
    "    # User row and anime column\n",
    "    user_row = np.where(user_ids_series == user_id)[0][0]\n",
    "    anime_col = np.where(anime_ids_series == anime_id)[0][0]\n",
    "    \n",
    "    # Take dot product of that row and column in U and V to make prediction\n",
    "    pred = np.dot(user_matrix[user_row, :], anime_matrix[:, anime_col])\n",
    "    \n",
    "    return pred"
   ]
  },
  {
   "cell_type": "code",
   "execution_count": 151,
   "id": "54ef7cb3",
   "metadata": {
    "scrolled": true
   },
   "outputs": [
    {
     "data": {
      "text/html": [
       "<div>\n",
       "<style scoped>\n",
       "    .dataframe tbody tr th:only-of-type {\n",
       "        vertical-align: middle;\n",
       "    }\n",
       "\n",
       "    .dataframe tbody tr th {\n",
       "        vertical-align: top;\n",
       "    }\n",
       "\n",
       "    .dataframe thead th {\n",
       "        text-align: right;\n",
       "    }\n",
       "</style>\n",
       "<table border=\"1\" class=\"dataframe\">\n",
       "  <thead>\n",
       "    <tr style=\"text-align: right;\">\n",
       "      <th></th>\n",
       "      <th>profile</th>\n",
       "      <th>anime_uid</th>\n",
       "      <th>score</th>\n",
       "    </tr>\n",
       "  </thead>\n",
       "  <tbody>\n",
       "    <tr>\n",
       "      <th>0</th>\n",
       "      <td>DesolatePsyche</td>\n",
       "      <td>34096</td>\n",
       "      <td>8</td>\n",
       "    </tr>\n",
       "    <tr>\n",
       "      <th>1</th>\n",
       "      <td>baekbeans</td>\n",
       "      <td>34599</td>\n",
       "      <td>10</td>\n",
       "    </tr>\n",
       "    <tr>\n",
       "      <th>2</th>\n",
       "      <td>skrn</td>\n",
       "      <td>28891</td>\n",
       "      <td>7</td>\n",
       "    </tr>\n",
       "    <tr>\n",
       "      <th>3</th>\n",
       "      <td>edgewalker00</td>\n",
       "      <td>2904</td>\n",
       "      <td>9</td>\n",
       "    </tr>\n",
       "    <tr>\n",
       "      <th>4</th>\n",
       "      <td>aManOfCulture99</td>\n",
       "      <td>4181</td>\n",
       "      <td>10</td>\n",
       "    </tr>\n",
       "  </tbody>\n",
       "</table>\n",
       "</div>"
      ],
      "text/plain": [
       "           profile  anime_uid  score\n",
       "0   DesolatePsyche      34096      8\n",
       "1        baekbeans      34599     10\n",
       "2             skrn      28891      7\n",
       "3     edgewalker00       2904      9\n",
       "4  aManOfCulture99       4181     10"
      ]
     },
     "execution_count": 151,
     "metadata": {},
     "output_type": "execute_result"
    }
   ],
   "source": [
    "# take a look at some profile and anime ids to test predictions\n",
    "reviews_df.head()"
   ]
  },
  {
   "cell_type": "code",
   "execution_count": 152,
   "id": "88a43cab",
   "metadata": {
    "scrolled": true
   },
   "outputs": [
    {
     "data": {
      "text/plain": [
       "7.993763836305472"
      ]
     },
     "execution_count": 152,
     "metadata": {},
     "output_type": "execute_result"
    }
   ],
   "source": [
    "# predict the value of the user 'DesolatePsyche' for anime 34096\n",
    "pred_val = predict_rating(user_mat, anime_mat, 'DesolatePsyche', 34096)\n",
    "pred_val"
   ]
  },
  {
   "cell_type": "code",
   "execution_count": 153,
   "id": "6b80abd0",
   "metadata": {},
   "outputs": [],
   "source": [
    "def print_prediction_summary(user_id, anime_id, prediction):\n",
    "    '''\n",
    "    INPUT:\n",
    "    user_id - the user_id from the reviews df\n",
    "    anime_id - the anime_id according the animes df\n",
    "    prediction - the predicted rating for user_id-anime_id\n",
    "    \n",
    "    OUTPUT:\n",
    "    None - prints a statement about the user, anime, and prediction made\n",
    "    \n",
    "    '''\n",
    "    anime_name = animes_df[animes_df['uid'] == anime_id]['title'].values[0]\n",
    "    print(\"For user {} we predict a {} rating for {}.\".format(user_id, round(prediction, 2), anime_name))"
   ]
  },
  {
   "cell_type": "code",
   "execution_count": 154,
   "id": "1deb3397",
   "metadata": {
    "scrolled": false
   },
   "outputs": [
    {
     "name": "stdout",
     "output_type": "stream",
     "text": [
      "For user DesolatePsyche we predict a 7.99 rating for Gintama..\n"
     ]
    }
   ],
   "source": [
    "print_prediction_summary('DesolatePsyche', 34096, pred_val)"
   ]
  },
  {
   "cell_type": "markdown",
   "id": "08d029cb",
   "metadata": {},
   "source": [
    "That's pretty accurate. But that's not a surprise knowing that the training data has already seen that combination. This is where testing the predictions with the validation data comes in.\n",
    "\n",
    "Step 5: Prediction validation"
   ]
  },
  {
   "cell_type": "code",
   "execution_count": 167,
   "id": "aa13dae7",
   "metadata": {
    "scrolled": true
   },
   "outputs": [
    {
     "name": "stdout",
     "output_type": "stream",
     "text": [
      "The actual rating for user Ledo-kun on anime Nisekoi: is 6.\n",
      " While the predicted rating is 9.\n",
      "\n",
      "Cold Start Problem. New User/Anime that was not in training set.\n",
      "\n",
      "The actual rating for user SeiIsFab on anime Nisekoi: is 8.\n",
      " While the predicted rating is 8.\n",
      "\n",
      "The actual rating for user BanjoTheBear on anime Nisekoi: is 5.\n",
      " While the predicted rating is 1.\n",
      "\n",
      "Cold Start Problem. New User/Anime that was not in training set.\n",
      "\n",
      "The actual rating for user AbsarNaeem on anime Nisekoi: is 8.\n",
      " While the predicted rating is 7.\n",
      "\n"
     ]
    }
   ],
   "source": [
    "def validation_comparison(val_df, num_preds):\n",
    "    '''\n",
    "    INPUT:\n",
    "    val_df - the validation dataset created above\n",
    "    num_preds - (int) the number of rows (going in order) you would like to make predictions for\n",
    "    \n",
    "    OUTPUT:\n",
    "    Nothing returned - print a statement about the prediciton made for each row of val_df from row 0 to num_preds\n",
    "    '''\n",
    "    # grab users, animes, and their ratings\n",
    "    val_users = np.array(val_df['profile'])\n",
    "    val_animes = np.array(val_df['anime_uid'])\n",
    "    val_ratings = np.array(val_df['score'])  \n",
    "\n",
    "    # for row in validation data, compare predicted rating vs actual rating\n",
    "    for idx in range(num_preds):\n",
    "        try:\n",
    "            pred = predict_rating(user_mat, anime_mat, val_users[idx], val_animes[idx])\n",
    "            title = animes_df[animes_df['uid'] == val_animes[idx]]['title'].values[0]\n",
    "            print(\"The actual rating for user {} on anime {} is {}.\\n While the predicted rating is {}.\\n\".format(val_users[idx], title, val_ratings[idx], round(pred)))\n",
    "        # if coming across a new user or anime\n",
    "        except:\n",
    "            print('Cold Start Problem. New User/Anime that was not in training set.\\n')\n",
    "        \n",
    "validation_comparison(val_df, 6)        "
   ]
  },
  {
   "cell_type": "markdown",
   "id": "738f84e9",
   "metadata": {},
   "source": [
    "There is an issue with users or animes that haven't been seen by the training set. FunkSVD cannot give predicted ratings. For the Cold Start Problem, knowledge and content based recommendations are a way to give recommendations to new users or shows with no ratings. These recommendations can be found in Section 1 and 2.\n",
    "\n",
    "The ratings returned by FunkSVD were not too bad. They are no where near perfect but this FunkSVD algorithm is a good base to build off of."
   ]
  },
  {
   "cell_type": "code",
   "execution_count": null,
   "id": "f1bde6db",
   "metadata": {},
   "outputs": [],
   "source": []
  }
 ],
 "metadata": {
  "kernelspec": {
   "display_name": "Python 3 (ipykernel)",
   "language": "python",
   "name": "python3"
  },
  "language_info": {
   "codemirror_mode": {
    "name": "ipython",
    "version": 3
   },
   "file_extension": ".py",
   "mimetype": "text/x-python",
   "name": "python",
   "nbconvert_exporter": "python",
   "pygments_lexer": "ipython3",
   "version": "3.9.7"
  }
 },
 "nbformat": 4,
 "nbformat_minor": 5
}
